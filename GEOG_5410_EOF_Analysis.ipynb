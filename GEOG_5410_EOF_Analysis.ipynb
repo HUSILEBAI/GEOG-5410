{
  "nbformat": 4,
  "nbformat_minor": 0,
  "metadata": {
    "colab": {
      "provenance": [],
      "toc_visible": true,
      "authorship_tag": "ABX9TyMDRMpf9l2qOr7cys2zFwA1",
      "include_colab_link": true
    },
    "kernelspec": {
      "name": "python3",
      "display_name": "Python 3"
    },
    "language_info": {
      "name": "python"
    }
  },
  "cells": [
    {
      "cell_type": "markdown",
      "metadata": {
        "id": "view-in-github",
        "colab_type": "text"
      },
      "source": [
        "<a href=\"https://colab.research.google.com/github/HUSILEBAI/GEOG-5410/blob/main/GEOG_5410_EOF_Analysis.ipynb\" target=\"_parent\"><img src=\"https://colab.research.google.com/assets/colab-badge.svg\" alt=\"Open In Colab\"/></a>"
      ]
    },
    {
      "cell_type": "markdown",
      "source": [
        "# NAO index"
      ],
      "metadata": {
        "id": "F-BeIpQ5Y07P"
      }
    },
    {
      "cell_type": "markdown",
      "source": [
        "This is the practise code for climate mode analysis. Start with connecting your Google Drive."
      ],
      "metadata": {
        "id": "DbAlkhOGN9mX"
      }
    },
    {
      "cell_type": "code",
      "source": [
        "from google.colab import drive\n",
        "drive.mount('/content/drive')"
      ],
      "metadata": {
        "id": "l0fAikY8NTgz",
        "outputId": "73375964-9677-435d-e08d-ffb8895124db",
        "colab": {
          "base_uri": "https://localhost:8080/"
        }
      },
      "execution_count": 1,
      "outputs": [
        {
          "output_type": "stream",
          "name": "stdout",
          "text": [
            "Mounted at /content/drive\n"
          ]
        }
      ]
    },
    {
      "cell_type": "markdown",
      "source": [
        "### Sea Level Pressure (SLP) data\n",
        "* Now, let's download the data using <button style=\"background-color: #f0f0f0; border: 1px solid #ccc; padding: 20px 30px; border-radius: 10px; cursor: pointer; font-size: 16px;\">!curl -O -C</button> command. Here, we use [NCEP/DOE Reanalysis II](https://psl.noaa.gov/data/gridded/data.ncep.reanalysis2.html).\n",
        "\n",
        "* Note that you only need to run this section once. And you can turn it off after you have your data downloaded."
      ],
      "metadata": {
        "id": "mzgyDkDsQQd1"
      }
    },
    {
      "cell_type": "code",
      "execution_count": null,
      "metadata": {
        "id": "22J3Cb2-JHZ3"
      },
      "outputs": [],
      "source": [
        "# !curl -O -C - https://downloads.psl.noaa.gov/Datasets/ncep.reanalysis2/Monthlies/surface/mslp.mon.mean.nc"
      ]
    },
    {
      "cell_type": "code",
      "source": [
        "#!pip install cartopy eofs\n"
      ],
      "metadata": {
        "id": "yufz4_gWzzXc"
      },
      "execution_count": null,
      "outputs": []
    },
    {
      "cell_type": "code",
      "source": [
        "import glob\n",
        "import xarray as xr\n",
        "import numpy as np\n",
        "import cartopy.crs as ccrs\n",
        "import matplotlib.pyplot as plt"
      ],
      "metadata": {
        "id": "0nlg3OX-OIgh"
      },
      "execution_count": 5,
      "outputs": []
    },
    {
      "cell_type": "markdown",
      "source": [
        "Now use [xarray.open_dataset](https://docs.xarray.dev/en/stable/generated/xarray.open_dataset.html) to read monthly mean sea surface pressure dataset.\n",
        "\n",
        "* When you only need to read single file, do <br>\n",
        "<button style=\"background-color: #f0f0f0; border: 1px solid #ccc; padding: 20px 30px; border-radius: 10px; cursor: pointer; font-size: 16px;\">xarray.open_dataset(\"file_name.nc\")</button>\n",
        "\n",
        "* When you need to read multiple files, do <br>\n",
        "<button style=\"background-color: #f0f0f0; border: 1px solid #ccc; padding: 20px 30px; border-radius: 10px; cursor: pointer; font-size: 16px;\">xfile = sorted(glob.glob(file_name))</button> <br>\n",
        "<button style=\"background-color: #f0f0f0; border: 1px solid #ccc; padding: 20px 30px; border-radius: 10px; cursor: pointer; font-size: 16px;\">mslp_dat = xr.open_dataset(file[0])</button>"
      ],
      "metadata": {
        "id": "tXBdZMdAQ8YV"
      }
    },
    {
      "cell_type": "code",
      "source": [
        "file_name = f\"mslp.mon.mean.nc\"\n",
        "mslp_dat = xr.open_dataset(file_name)\n",
        "mslp_dat\n"
      ],
      "metadata": {
        "id": "vK2FBsLdPNfs"
      },
      "execution_count": null,
      "outputs": []
    },
    {
      "cell_type": "code",
      "source": [
        "# Reverse the latitude dimension\n",
        "mslp_dat_reversed_lat = mslp_dat.isel(lat=slice(None, None, -1))\n",
        "mslp_dat_reversed_lat"
      ],
      "metadata": {
        "id": "AhCnz_Iudfqw"
      },
      "execution_count": null,
      "outputs": []
    },
    {
      "cell_type": "code",
      "source": [
        "\n",
        "# Read the data\n",
        "lat = mslp_dat_reversed_lat.lat\n",
        "lon = mslp_dat_reversed_lat.lon\n",
        "mslp = mslp_dat_reversed_lat.mslp\n",
        "print(f\"Shape of latitude data is {lat.shape}\")\n",
        "print(f\"Shape of longitude data is {lon.shape}\")\n",
        "print(f\"Shape of mean sea surface pressure data is {mslp.shape}\\n\")\n",
        "# print(f\"latitude is {lat}\")"
      ],
      "metadata": {
        "id": "M97u3tA6PVSN"
      },
      "execution_count": null,
      "outputs": []
    },
    {
      "cell_type": "markdown",
      "source": [
        "### NAO calculation\n",
        "Here we use [Hurrell North Atlantic Oscillation (NAO) Index (PC-based)](https://climatedataguide.ucar.edu/climate-data/hurrell-north-atlantic-oscillation-nao-index-pc-based) to compute the NAO.\n",
        "\n",
        "<button style=\"background-color: #f0f0f0; border: 3px solid #ccc; padding: 20px 30px; border-radius: 10px; cursor: pointer; font-size: 16px;\">DJF mean</button>\n",
        "<button style=\"background-color: #f0f0f0; border: 3px solid #ccc; padding: 20px 30px; border-radius: 10px; cursor: pointer; font-size: 16px;\">lat_lim = [20 80]</button>\n",
        "<button style=\"background-color: #f0f0f0; border: 3px solid #ccc; padding: 20px 30px; border-radius: 10px; cursor: pointer; font-size: 16px;\">lon_lim = [-90 40]</button>\n"
      ],
      "metadata": {
        "id": "5qS7sf_dXPHz"
      }
    },
    {
      "cell_type": "code",
      "source": [
        "# extract DJF mslp\n",
        "mslp_DJF = mslp.where(mslp['time.season']=='DJF', drop=True)\n",
        "print(f\"Shape of mean sea surface pressure data in DJF is {mslp_DJF.shape}\")"
      ],
      "metadata": {
        "id": "lZ-h6AqfQJoY",
        "outputId": "2a2b80db-d996-40fc-87e3-a89001c0cf79",
        "colab": {
          "base_uri": "https://localhost:8080/"
        }
      },
      "execution_count": 93,
      "outputs": [
        {
          "output_type": "stream",
          "name": "stdout",
          "text": [
            "Shape of mean sea surface pressure data in DJF is (137, 73, 144)\n"
          ]
        }
      ]
    },
    {
      "cell_type": "code",
      "source": [
        "mslp_DJF_mean = mslp_DJF.mean('time')\n",
        "\n",
        "fig = plt.figure(figsize=(10, 4))\n",
        "ax = fig.add_subplot(1,1,1,projection=ccrs.PlateCarree(central_longitude=0))\n",
        "ax.set_global()\n",
        "cb = ax.contourf(lon, lat, mslp_DJF_mean, levels = 30,transform=ccrs.PlateCarree(), cmap='RdBu_r')\n",
        "ax.coastlines()\n",
        "# Add colorbar\n",
        "cbar = plt.colorbar(cb, ax=ax, orientation='vertical')\n",
        "cbar.set_label('Mean Sea Level Pressure (hPa)')\n",
        "\n",
        "plt.show()"
      ],
      "metadata": {
        "id": "5fStvnEIJdZW"
      },
      "execution_count": null,
      "outputs": []
    },
    {
      "cell_type": "code",
      "source": [
        "import cartopy.util as cutil\n",
        "cdata, clon, clat = cutil.add_cyclic(mslp_DJF_mean, lon, lat)\n",
        "fig = plt.figure(figsize=(10, 4))\n",
        "ax = fig.add_subplot(1,1,1,projection=ccrs.PlateCarree(central_longitude=0))\n",
        "ax.set_global()\n",
        "cb = ax.contourf(clon, clat, cdata, levels = 30,transform=ccrs.PlateCarree(), cmap='RdBu_r')\n",
        "ax.coastlines()\n",
        "# Add colorbar\n",
        "cbar = plt.colorbar(cb, ax=ax, orientation='vertical')\n",
        "cbar.set_label('Mean Sea Level Pressure (hPa)')\n",
        "plt.show()"
      ],
      "metadata": {
        "id": "JsKlzF13Kfrm"
      },
      "execution_count": null,
      "outputs": []
    },
    {
      "cell_type": "code",
      "source": [
        "# slice the mslp\n",
        "lat_slice = slice(20, 80) # if slice(20, 80, -1) -1 is to reverse the latitude dimension\n",
        "\n",
        "# Define the longitude slicing ranges\n",
        "lon_slice1 = slice(270, 360)  # Slicing from 270°E to 360°E\n",
        "lon_slice2 = slice(0, 40)  # Slicing from 0°E to 40°E\n",
        "\n",
        "# Slice the data along the longitude dimension for each range\n",
        "mslp_DJF_subset1 = mslp_DJF.sel(lat=lat_slice, lon=lon_slice1)\n",
        "mslp_DJF_subset2 = mslp_DJF.sel(lat=lat_slice, lon=lon_slice2)\n",
        "\n",
        "# Concatenate the subsets along the longitude dimension\n",
        "mslp_DJF_subset = xr.concat([mslp_DJF_subset1, mslp_DJF_subset2], dim='lon')\n",
        "\n",
        "print(f\"Shape of subset of mean sea surface pressure data in DJF is {mslp_DJF_subset.shape}\")"
      ],
      "metadata": {
        "id": "v99W1UdMWfZk"
      },
      "execution_count": null,
      "outputs": []
    },
    {
      "cell_type": "markdown",
      "source": [
        "### EOF analysis\n",
        "\n",
        "You might need to install eofs package in your colab env. Please run this <button style=\"background-color: #f0f0f0; border: 3px solid #ccc; padding: 20px 30px; border-radius: 10px; cursor: pointer; font-size: 16px;\">!pip install eofs</button>  and install eof function first."
      ],
      "metadata": {
        "id": "HZ21m9O6eQE0"
      }
    },
    {
      "cell_type": "code",
      "source": [
        "from eofs.xarray import Eof"
      ],
      "metadata": {
        "id": "QNzEBpbBb-aG"
      },
      "execution_count": 99,
      "outputs": []
    },
    {
      "cell_type": "code",
      "source": [
        "# Calculate the anomaly of mslp_DJF_subset\n",
        "mslp_DJF_anomaly = mslp_DJF_subset - mslp_DJF_subset.mean(dim='time')\n",
        "print(f\"Shape of anomaly of the DJF mean sea surface pressure data is {mslp_DJF_anomaly.shape}\")"
      ],
      "metadata": {
        "id": "dSBgC8-3fPaG",
        "outputId": "a20d2a4f-49d4-4071-9490-27c61ee2189b",
        "colab": {
          "base_uri": "https://localhost:8080/"
        }
      },
      "execution_count": 100,
      "outputs": [
        {
          "output_type": "stream",
          "name": "stdout",
          "text": [
            "Shape of anomaly of the DJF mean sea surface pressure data is (137, 25, 53)\n"
          ]
        }
      ]
    },
    {
      "cell_type": "code",
      "source": [
        "# Create an EOF solver\n",
        "solver = Eof(mslp_DJF_anomaly.transpose('time', 'lat', 'lon'))"
      ],
      "metadata": {
        "id": "5we9s7sSgW5g"
      },
      "execution_count": 101,
      "outputs": []
    },
    {
      "cell_type": "code",
      "source": [
        "# Retrieve the leading EOF (EOF 1)\n",
        "eof1 = solver.eofsAsCorrelation(neofs=1)\n",
        "# Retrieve the PC time series of the leading EOF\n",
        "pc1 = solver.pcs(npcs=1, pcscaling=1)\n",
        "# Normalize the NAO index\n",
        "nao_index_normalized = (pc1.values[:, 0] - np.mean(pc1.values[:, 0])) / np.std(pc1.values[:, 0])\n",
        "\n",
        "# Print the shape of EOF1 and PC1\n",
        "print(\"Shape of EOF 1:\", eof1.shape)\n",
        "print(\"Shape of PC 1:\", pc1.shape)\n",
        "print(\"Shape of NAO index:\", nao_index_normalized.shape)\n"
      ],
      "metadata": {
        "id": "En6b_fDmfo3e",
        "outputId": "0e605fb9-5529-4c3c-c6a4-56a33872d633",
        "colab": {
          "base_uri": "https://localhost:8080/"
        }
      },
      "execution_count": 102,
      "outputs": [
        {
          "output_type": "stream",
          "name": "stdout",
          "text": [
            "Shape of EOF 1: (1, 25, 53)\n",
            "Shape of PC 1: (137, 1)\n",
            "Shape of NAO index: (137,)\n"
          ]
        }
      ]
    },
    {
      "cell_type": "code",
      "source": [
        "# Plot the leading EOF (EOF 1)\n",
        "fig, axes = plt.subplots(1, 2, figsize=(16, 4))\n",
        "\n",
        "# Plot the EOF\n",
        "im = axes[0].contourf(eof1[0, :, :])\n",
        "fig.colorbar(im, ax=axes[0], label='EOF amplitude')\n",
        "axes[0].set_title('Leading EOF (EOF 1)')\n",
        "axes[0].set_xlabel('Longitude')\n",
        "axes[0].set_ylabel('Latitude')\n",
        "axes[0].set_xticks(range(0, eof1.shape[2] + 1, 10))\n",
        "axes[0].set_yticks(range(0, eof1.shape[1] + 1, 10))\n",
        "axes[0].grid(True)\n",
        "\n",
        "# Plot the NAO index time series\n",
        "axes[1].plot(pc1.time, nao_index_normalized)\n",
        "axes[1].set_title('North Atlantic Oscillation (NAO) Index')\n",
        "axes[1].set_xlabel('year')\n",
        "axes[1].set_ylabel('Normalized Index')\n",
        "axes[1].grid(True)\n",
        "\n",
        "plt.tight_layout()\n",
        "plt.show()"
      ],
      "metadata": {
        "id": "kQCxszH8RhBW"
      },
      "execution_count": null,
      "outputs": []
    },
    {
      "cell_type": "code",
      "source": [
        "# Calculate the Pearson correlation coefficient using NumPy and xarray\n",
        "corr_coef = xr.corr(mslp_DJF, xr.DataArray(nao_index_normalized, dims='time'), dim='time')"
      ],
      "metadata": {
        "id": "_1hR92I6i0ET"
      },
      "execution_count": 104,
      "outputs": []
    },
    {
      "cell_type": "code",
      "source": [
        "cdata, clon, clat = cutil.add_cyclic(corr_coef, lon, lat)\n",
        "fig = plt.figure(figsize=(8,3))\n",
        "ax = fig.add_subplot(1,1,1, projection=ccrs.PlateCarree(central_longitude=0))\n",
        "ax.set_global()\n",
        "cb = ax.contourf(clon, clat, cdata, levels = 30, transform=ccrs.PlateCarree(), cmap='RdBu_r')\n",
        "ax.coastlines()\n",
        "cbar = plt.colorbar(cb, ax=ax, orientation='vertical')\n",
        "cbar.set_label('Correlation Map (Plate Carree Projection)')\n",
        "plt.show()\n",
        "\n",
        "\n",
        "fig = plt.figure()\n",
        "ax = fig.add_subplot(1,1,1, projection=ccrs.Orthographic(central_longitude=-10, central_latitude=90))\n",
        "ax.set_global()\n",
        "cb = ax.contourf(clon, clat, cdata, levels = 30, transform=ccrs.PlateCarree(), cmap='RdBu_r')\n",
        "ax.coastlines()\n",
        "cbar = plt.colorbar(cb, ax=ax, orientation='vertical')\n",
        "cbar.set_label('Correlation Map (Orthographic Projection)')\n",
        "plt.show()\n",
        "\n"
      ],
      "metadata": {
        "id": "m03u-uB2CbJh"
      },
      "execution_count": null,
      "outputs": []
    },
    {
      "cell_type": "markdown",
      "source": [
        "### NPO anaylsis\n",
        "<button style=\"background-color: #f0f0f0; border: 3px solid #ccc; padding: 20px 30px; border-radius: 10px; cursor: pointer; font-size: 16px;\">January mean</button>\n",
        "<button style=\"background-color: #f0f0f0; border: 3px solid #ccc; padding: 20px 30px; border-radius: 10px; cursor: pointer; font-size: 16px;\">lat_lim = [20 90]</button>\n",
        "<button style=\"background-color: #f0f0f0; border: 3px solid #ccc; padding: 20px 30px; border-radius: 10px; cursor: pointer; font-size: 16px;\">lon_lim = [120 240]</button>"
      ],
      "metadata": {
        "id": "ORGyxt-6O-tE"
      }
    },
    {
      "cell_type": "code",
      "source": [
        "# extract January mslp\n",
        "mslp_jan= mslp.where(mslp['time.month']==1, drop=True)\n",
        "print(f\"Shape of mean sea level pressure data in January is {mslp_jan.shape}\")\n",
        "# subset data to NPO domain\n",
        "lat_lim = slice(20,90)\n",
        "lon_lim = slice(120,240)\n",
        "mslp_jan_subset = mslp_jan.sel(lat=lat_lim, lon=lon_lim)\n",
        "print(f\"Shape of subset mean sea level pressure data in January is {mslp_jan_subset.shape}\")"
      ],
      "metadata": {
        "id": "HxpvpFCk4hyi",
        "colab": {
          "base_uri": "https://localhost:8080/"
        },
        "outputId": "5e8f4fe6-0d73-449c-bfe2-29b325ba91f0"
      },
      "execution_count": 106,
      "outputs": [
        {
          "output_type": "stream",
          "name": "stdout",
          "text": [
            "Shape of mean sea level pressure data in January is (46, 73, 144)\n",
            "Shape of subset mean sea level pressure data in January is (46, 29, 49)\n"
          ]
        }
      ]
    },
    {
      "cell_type": "code",
      "source": [
        "# Calculate the anomaly of mslp_Jan_subset\n",
        "mslp_jan_anomaly = mslp_jan_subset - mslp_jan_subset.mean(dim='time')\n",
        "print(f\"Shape of anomaly of the Jan mean sea surface pressure data is {mslp_jan_anomaly.shape}\")\n",
        "# Create an EOF solver\n",
        "solver = Eof(mslp_jan_anomaly.transpose('time', 'lat', 'lon'))\n",
        "# Retrieve the leading EOF (EOF 1)\n",
        "eof1 = solver.eofsAsCorrelation(neofs=1)\n",
        "# Retrieve the PC time series of the leading EOF\n",
        "pc1 = solver.pcs(npcs=1, pcscaling=1)\n",
        "# Normalize the NAO index\n",
        "npo_index_normalized = (pc1.values[:, 0] - np.mean(pc1.values[:, 0])) / np.std(pc1.values[:, 0])\n",
        "\n",
        "# Print the shape of EOF1 and PC1\n",
        "print(\"Shape of EOF 1:\", eof1.shape)\n",
        "print(\"Shape of PC 1:\", pc1.shape)\n",
        "print(\"Shape of NAO index:\", nao_index_normalized.shape)\n",
        "\n",
        "# Plot the leading EOF (EOF 1)\n",
        "fig, axes = plt.subplots(1, 2, figsize=(16, 4))\n",
        "# Plot the EOF\n",
        "im = axes[0].contourf(eof1[0, :, :])\n",
        "fig.colorbar(im, ax=axes[0], label='EOF amplitude')\n",
        "axes[0].set_title('Leading EOF (EOF 1)')\n",
        "axes[0].set_xlabel('Longitude')\n",
        "axes[0].set_ylabel('Latitude')\n",
        "axes[0].set_xticks(range(0, eof1.shape[2] + 1, 10))\n",
        "axes[0].set_yticks(range(0, eof1.shape[1] + 1, 10))\n",
        "axes[0].grid(True)\n",
        "\n",
        "# Plot the NAO index time series\n",
        "axes[1].plot(pc1.time, npo_index_normalized)\n",
        "axes[1].set_title('North Pacific Oscillation (NAO) Index')\n",
        "axes[1].set_xlabel('year')\n",
        "axes[1].set_ylabel('Normalized Index')\n",
        "axes[1].grid(True)\n",
        "\n",
        "plt.tight_layout()\n",
        "plt.show()"
      ],
      "metadata": {
        "id": "kLFCk49PRrQ-"
      },
      "execution_count": null,
      "outputs": []
    },
    {
      "cell_type": "code",
      "source": [
        "# Calculate the Pearson correlation coefficient using NumPy and xarray\n",
        "corr_coef = xr.corr(mslp_jan, xr.DataArray(npo_index_normalized, dims='time'), dim='time')\n",
        "cdata, clon, clat = cutil.add_cyclic(corr_coef, lon, lat)\n",
        "fig = plt.figure()\n",
        "ax = fig.add_subplot(1,1,1, projection=ccrs.Orthographic(central_longitude=180, central_latitude=90))\n",
        "ax.set_global()\n",
        "cb = ax.contourf(clon, clat, cdata, levels = 30, transform=ccrs.PlateCarree(), cmap='RdBu_r')\n",
        "ax.coastlines()\n",
        "cbar = plt.colorbar(cb, ax=ax, orientation='vertical')\n",
        "cbar.set_label('Correlation Map (Orthographic Projection)')\n",
        "plt.show()"
      ],
      "metadata": {
        "id": "9hw4t4WtSIzJ"
      },
      "execution_count": null,
      "outputs": []
    },
    {
      "cell_type": "markdown",
      "source": [
        "# El ñino 3.4 index\n",
        "\n",
        "Here, we'll use [Hadley Centre Sea Ice and Sea Surface Temperature data set (HadISST)](https://www.metoffice.gov.uk/hadobs/hadisst/)"
      ],
      "metadata": {
        "id": "lIqtSWThFQe_"
      }
    },
    {
      "cell_type": "code",
      "source": [
        "# !curl -O -C - https://www.metoffice.gov.uk/hadobs/hadisst/data/HadISST_sst.nc.gz\n",
        "# Extract the data\n",
        "# !gunzip HadISST_sst.nc.gz"
      ],
      "metadata": {
        "id": "mnZ9hVQkFVuL"
      },
      "execution_count": 86,
      "outputs": []
    },
    {
      "cell_type": "code",
      "source": [
        "sst_file = f\"HadISST_sst.nc\"\n",
        "sst_dat = xr.open_dataset(sst_file)\n",
        "sst_dat"
      ],
      "metadata": {
        "id": "ASBCFwFeGFb3"
      },
      "execution_count": null,
      "outputs": []
    },
    {
      "cell_type": "code",
      "source": [
        "# Reverse the latitude dimension\n",
        "sst_dat_reversed_lat = sst_dat.isel(latitude=slice(None, None, -1))\n",
        "sst = sst_dat_reversed_lat.sst\n",
        "print(f\"Shape of the SST is {sst}\")"
      ],
      "metadata": {
        "id": "aws2dAhkG76u"
      },
      "execution_count": null,
      "outputs": []
    },
    {
      "cell_type": "markdown",
      "source": [
        "### Compute the index based on the NCAR climate data guide, you can find it here [Nino SST Indices (Nino 1+2, 3, 3.4, 4; ONI and TNI)](https://climatedataguide.ucar.edu/climate-data/nino-sst-indices-nino-12-3-34-4-oni-and-tni)\n",
        "\n",
        "Niño 3.4 (5N-5S, 170W-120W):  The  Niño 3.4 anomalies may be thought of as representing the average equatorial SSTs across the Pacific from about the dateline to the South American coast.  The Niño 3.4 index typically uses a 5-month running mean, and El Niño or La  Niña events are defined when the  Niño 3.4 SSTs exceed +/- 0.4C for a period of six months or more.\n",
        "\n",
        "<button style=\"background-color: #f0f0f0; border: 1px solid #ccc; padding: 20px 30px; border-radius: 10px; cursor: pointer; font-size: 16px;\">lat_lim = [-5, 5]</button>\n",
        "<button style=\"background-color: #f0f0f0; border: 1px solid #ccc; padding: 20px 30px; border-radius: 10px; cursor: pointer; font-size: 16px;\">lon_lim = [-170, -120]</button>"
      ],
      "metadata": {
        "id": "5iFo1v5fH0rO"
      }
    },
    {
      "cell_type": "code",
      "source": [
        "# Slice the SST data\n",
        "lat_lim = slice(-5, 5)\n",
        "lon_lim = slice(-170, -120)\n",
        "sst_subset = sst.sel(latitude=lat_lim, longitude=lon_lim)\n",
        "print(f\"Shape of subset of sea surface temperature data is {sst_subset.shape}\")"
      ],
      "metadata": {
        "id": "CcnE36BLHPIP"
      },
      "execution_count": null,
      "outputs": []
    },
    {
      "cell_type": "code",
      "source": [
        "# Calculate the mean SST over the Niño 3.4 domain\n",
        "sst_mean = sst_subset.mean(dim={'latitude', 'longitude'})\n",
        "print(f\"The mean SST over the ñino 3.4 domain is {sst_mean}\")\n",
        "\n",
        "# Calculate the standard deviation of sst_subset\n",
        "sst_std = sst_subset.std(dim=('latitude', 'longitude'))\n",
        "\n",
        "# Calculate the z-score\n",
        "ñino34 = (sst_mean - sst_mean.mean()) / sst_std\n",
        "print(f\"Ñino 3.4 index is {ñino34}\")"
      ],
      "metadata": {
        "id": "BSJwc6idJglr"
      },
      "execution_count": null,
      "outputs": []
    },
    {
      "cell_type": "code",
      "source": [
        "ñino34_jul = ñino34[0::12]\n",
        "\n",
        "# Plot the Niño 3.4 index for July\n",
        "ñino34_jul.plot()\n",
        "\n",
        "# Add labels and title\n",
        "plt.xlabel('year')\n",
        "plt.ylabel('Z-Score of Niño 3.4 Index')\n",
        "plt.title('Niño 3.4 Index for July')\n",
        "\n",
        "# Show the plot\n",
        "plt.show()"
      ],
      "metadata": {
        "id": "58dbw6nEJwrh"
      },
      "execution_count": null,
      "outputs": []
    },
    {
      "cell_type": "code",
      "source": [
        "for i in range(6):\n",
        "    subset = ñino34[i::12]  # Extract subset with interval of 12 starting from index i\n",
        "    plt.plot(subset.time,subset, label=f'Month = {i+1}')\n",
        "\n",
        "plt.xlabel('Time Step')\n",
        "plt.ylabel('Values')\n",
        "plt.title('Monthly ñino 3.4 index')\n",
        "plt.legend()\n",
        "plt.show()"
      ],
      "metadata": {
        "id": "AzUQtZPIL-nR"
      },
      "execution_count": null,
      "outputs": []
    },
    {
      "cell_type": "code",
      "source": [],
      "metadata": {
        "id": "UC5N5Hu2N2Ea"
      },
      "execution_count": null,
      "outputs": []
    }
  ]
}