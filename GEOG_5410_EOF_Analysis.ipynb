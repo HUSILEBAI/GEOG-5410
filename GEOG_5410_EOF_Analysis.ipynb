{
  "nbformat": 4,
  "nbformat_minor": 0,
  "metadata": {
    "colab": {
      "provenance": [],
      "toc_visible": true,
      "authorship_tag": "ABX9TyPjaTQ3Ins8R/CqkfBHtIT/",
      "include_colab_link": true
    },
    "kernelspec": {
      "name": "python3",
      "display_name": "Python 3"
    },
    "language_info": {
      "name": "python"
    }
  },
  "cells": [
    {
      "cell_type": "markdown",
      "metadata": {
        "id": "view-in-github",
        "colab_type": "text"
      },
      "source": [
        "<a href=\"https://colab.research.google.com/github/HUSILEBAI/GEOG-5410/blob/main/GEOG_5410_EOF_Analysis.ipynb\" target=\"_parent\"><img src=\"https://colab.research.google.com/assets/colab-badge.svg\" alt=\"Open In Colab\"/></a>"
      ]
    },
    {
      "cell_type": "markdown",
      "source": [
        "# NAO index"
      ],
      "metadata": {
        "id": "F-BeIpQ5Y07P"
      }
    },
    {
      "cell_type": "markdown",
      "source": [
        "This is the practise code for climate mode analysis. Start with connecting your Google Drive."
      ],
      "metadata": {
        "id": "DbAlkhOGN9mX"
      }
    },
    {
      "cell_type": "code",
      "source": [
        "from google.colab import drive\n",
        "drive.mount('/content/drive')"
      ],
      "metadata": {
        "id": "l0fAikY8NTgz"
      },
      "execution_count": null,
      "outputs": []
    },
    {
      "cell_type": "markdown",
      "source": [
        "### Sea Surface Pressure (SLP) data\n",
        "* Now, let's download the data using <button style=\"background-color: #f0f0f0; border: 1px solid #ccc; padding: 20px 30px; border-radius: 10px; cursor: pointer; font-size: 16px;\">!curl -O -C</button> command. Here, we use [NCEP/DOE Reanalysis II](https://psl.noaa.gov/data/gridded/data.ncep.reanalysis2.html).\n",
        "\n",
        "* Note that you only need to run this section once. And you can turn it off after you have your data downloaded."
      ],
      "metadata": {
        "id": "mzgyDkDsQQd1"
      }
    },
    {
      "cell_type": "code",
      "execution_count": 2,
      "metadata": {
        "id": "22J3Cb2-JHZ3"
      },
      "outputs": [],
      "source": [
        "# !curl -O -C - https://downloads.psl.noaa.gov/Datasets/ncep.reanalysis2/Monthlies/surface/mslp.mon.mean.nc"
      ]
    },
    {
      "cell_type": "code",
      "source": [
        "import glob\n",
        "import xarray as xr\n",
        "import numpy as np\n",
        "import cartopy.crs as ccrs\n",
        "import matplotlib.pyplot as plt"
      ],
      "metadata": {
        "id": "0nlg3OX-OIgh"
      },
      "execution_count": 3,
      "outputs": []
    },
    {
      "cell_type": "markdown",
      "source": [
        "Now use [xarray.open_dataset](https://docs.xarray.dev/en/stable/generated/xarray.open_dataset.html) to read monthly mean sea surface pressure dataset.\n",
        "\n",
        "<button style=\"background-color: #f0f0f0; border: 1px solid #ccc; padding: 20px 30px; border-radius: 10px; cursor: pointer; font-size: 16px;\">xarray.open_dataset(\"file_name.nc\")</button>\n"
      ],
      "metadata": {
        "id": "tXBdZMdAQ8YV"
      }
    },
    {
      "cell_type": "code",
      "source": [
        "file_name = f\"mslp.mon.mean.nc\"\n",
        "# when you only need to read single file\n",
        "mslp_dat = xr.open_dataset(file_name)\n",
        "mslp_dat\n",
        "\n",
        "# when you need to read multiple files\n",
        "# file = sorted(glob.glob(file_name))\n",
        "# mslp_dat = xr.open_dataset(file[0])"
      ],
      "metadata": {
        "id": "vK2FBsLdPNfs"
      },
      "execution_count": null,
      "outputs": []
    },
    {
      "cell_type": "code",
      "source": [
        "# Reverse the latitude dimension\n",
        "mslp_dat_reversed_lat = mslp_dat.isel(lat=slice(None, None, -1))\n",
        "mslp_dat_reversed_lat"
      ],
      "metadata": {
        "id": "AhCnz_Iudfqw"
      },
      "execution_count": null,
      "outputs": []
    },
    {
      "cell_type": "code",
      "source": [
        "# Read the data\n",
        "lat = mslp_dat_reversed_lat.lat\n",
        "lon = mslp_dat_reversed_lat.lon\n",
        "mslp = mslp_dat_reversed_lat.mslp\n",
        "print(f\"Shape of latitude data is {lat.shape}\")\n",
        "print(f\"Shape of longitude data is {lon.shape}\")\n",
        "print(f\"Shape of mean sea surface pressure data is {mslp.shape}\\n\")\n",
        "# print(f\"latitude is {lat}\")"
      ],
      "metadata": {
        "id": "M97u3tA6PVSN"
      },
      "execution_count": null,
      "outputs": []
    },
    {
      "cell_type": "markdown",
      "source": [
        "### NAO calculation\n",
        "Here we use [Hurrell North Atlantic Oscillation (NAO) Index (PC-based)](https://climatedataguide.ucar.edu/climate-data/hurrell-north-atlantic-oscillation-nao-index-pc-based) to compute the NAO.\n",
        "\n",
        "<button style=\"background-color: #f0f0f0; border: 3px solid #ccc; padding: 20px 30px; border-radius: 10px; cursor: pointer; font-size: 16px;\">DJF mean</button>\n",
        "<button style=\"background-color: #f0f0f0; border: 3px solid #ccc; padding: 20px 30px; border-radius: 10px; cursor: pointer; font-size: 16px;\">lat_lim = [20 80]</button>\n",
        "<button style=\"background-color: #f0f0f0; border: 3px solid #ccc; padding: 20px 30px; border-radius: 10px; cursor: pointer; font-size: 16px;\">lon_lim = [-90 40]</button>\n"
      ],
      "metadata": {
        "id": "5qS7sf_dXPHz"
      }
    },
    {
      "cell_type": "code",
      "source": [
        "# extract DJF mslp\n",
        "mslp_DJF = mslp.where(mslp['time.season']=='DJF', drop=True)\n",
        "print(f\"Shape of mean sea surface pressure data in DJF is {mslp_DJF.shape}\")"
      ],
      "metadata": {
        "id": "lZ-h6AqfQJoY"
      },
      "execution_count": null,
      "outputs": []
    },
    {
      "cell_type": "code",
      "source": [
        "# slice the mslp\n",
        "lat_slice = slice(20, 80) # if slice(20, 80, -1) -1 is to reverse the latitude dimension\n",
        "\n",
        "# Define the longitude slicing ranges\n",
        "lon_slice1 = slice(270, 360)  # Slicing from 270°E to 360°E\n",
        "lon_slice2 = slice(0, 40)  # Slicing from 0°E to 40°E\n",
        "\n",
        "# Slice the data along the longitude dimension for each range\n",
        "mslp_DJF_subset1 = mslp_DJF.sel(lat=lat_slice, lon=lon_slice1)\n",
        "mslp_DJF_subset2 = mslp_DJF.sel(lat=lat_slice, lon=lon_slice2)\n",
        "\n",
        "# Concatenate the subsets along the longitude dimension\n",
        "mslp_DJF_subset = xr.concat([mslp_DJF_subset1, mslp_DJF_subset2], dim='lon')\n",
        "\n",
        "print(f\"Shape of subset of mean sea surface pressure data in DJF is {mslp_DJF_subset.shape}\")"
      ],
      "metadata": {
        "id": "v99W1UdMWfZk"
      },
      "execution_count": null,
      "outputs": []
    },
    {
      "cell_type": "markdown",
      "source": [
        "### EOF analysis\n",
        "\n",
        "You might need to install eofs package in your colab env. Please run this <button style=\"background-color: #f0f0f0; border: 3px solid #ccc; padding: 20px 30px; border-radius: 10px; cursor: pointer; font-size: 16px;\">!pip install eofs</button>  and install eof function first."
      ],
      "metadata": {
        "id": "HZ21m9O6eQE0"
      }
    },
    {
      "cell_type": "code",
      "source": [
        "from eofs.xarray import Eof"
      ],
      "metadata": {
        "id": "QNzEBpbBb-aG"
      },
      "execution_count": 9,
      "outputs": []
    },
    {
      "cell_type": "code",
      "source": [
        "# Calculate the anomaly of mslp_DJF_subset\n",
        "mslp_DJF_anomaly = mslp_DJF_subset - mslp_DJF_subset.mean(dim='time')\n",
        "print(f\"Shape of anomaly of the DJF mean sea surface pressure data is {mslp_DJF_anomaly.shape}\")"
      ],
      "metadata": {
        "id": "dSBgC8-3fPaG"
      },
      "execution_count": null,
      "outputs": []
    },
    {
      "cell_type": "code",
      "source": [
        "# Create an EOF solver\n",
        "solver = Eof(mslp_DJF_anomaly.transpose('time', 'lat', 'lon'))"
      ],
      "metadata": {
        "id": "5we9s7sSgW5g"
      },
      "execution_count": 11,
      "outputs": []
    },
    {
      "cell_type": "code",
      "source": [
        "# Retrieve the leading EOF (EOF 1)\n",
        "eof1 = solver.eofsAsCorrelation(neofs=1)\n",
        "# Retrieve the PC time series of the leading EOF\n",
        "pc1 = solver.pcs(npcs=1, pcscaling=1)\n",
        "# Normalize the NAO index\n",
        "nao_index_normalized = (pc1.values[:, 0] - np.mean(pc1.values[:, 0])) / np.std(pc1.values[:, 0])\n",
        "\n",
        "# Print the shape of EOF1 and PC1\n",
        "print(\"Shape of EOF 1:\", eof1.shape)\n",
        "print(\"Shape of PC 1:\", pc1.shape)\n",
        "print(\"Shape of NAO index:\", nao_index_normalized.shape)\n",
        "# Plot the leading EOF (EOF 1)\n",
        "fig, axes = plt.subplots(2, 1, figsize=(8, 10))\n",
        "\n",
        "# Plot the EOF\n",
        "im = axes[0].contourf(eof1[0, :, :])\n",
        "fig.colorbar(im, ax=axes[0], label='EOF amplitude')\n",
        "axes[0].set_title('Leading EOF (EOF 1)')\n",
        "axes[0].set_xlabel('Longitude')\n",
        "axes[0].set_ylabel('Latitude')\n",
        "axes[0].set_xticks(range(0, eof1.shape[2] + 1, 10))\n",
        "axes[0].set_yticks(range(0, eof1.shape[1] + 1, 10))\n",
        "axes[0].grid(True)\n",
        "\n",
        "# Plot the NAO index time series\n",
        "axes[1].plot(pc1.time, nao_index_normalized)\n",
        "axes[1].set_title('North Atlantic Oscillation (NAO) Index')\n",
        "axes[1].set_xlabel('year')\n",
        "axes[1].set_ylabel('Normalized Index')\n",
        "axes[1].grid(True)\n",
        "\n",
        "plt.tight_layout()\n",
        "plt.show()"
      ],
      "metadata": {
        "id": "En6b_fDmfo3e"
      },
      "execution_count": null,
      "outputs": []
    },
    {
      "cell_type": "code",
      "source": [
        "# Calculate the Pearson correlation coefficient using NumPy and xarray\n",
        "corr_coef = xr.corr(mslp_DJF, xr.DataArray(nao_index_normalized, dims='time'), dim='time')\n"
      ],
      "metadata": {
        "id": "_1hR92I6i0ET"
      },
      "execution_count": 13,
      "outputs": []
    },
    {
      "cell_type": "code",
      "source": [
        "plt.figure(figsize=(10, 5))\n",
        "ax1 = plt.axes(projection=ccrs.PlateCarree(central_longitude=0))\n",
        "cp1 = corr_coef.plot.contourf(levels=30, cmap='RdBu_r', extend='both', transform=ccrs.PlateCarree())\n",
        "plt.title('Correlation Map (Plate Carree Projection)')\n",
        "plt.xlabel('Longitude')\n",
        "plt.ylabel('Latitude')\n",
        "ax1.coastlines()\n",
        "plt.grid(True)\n",
        "plt.show()\n",
        "\n",
        "# Plot the correlation map with Orthographic projection\n",
        "plt.figure(figsize=(10, 5))\n",
        "ax2 = plt.axes(projection=ccrs.Orthographic(central_longitude=-10, central_latitude=60))\n",
        "cp2 = corr_coef.plot.contourf(levels=30, cmap='RdBu_r', extend='both', transform=ccrs.PlateCarree())\n",
        "plt.title('Correlation Map (Orthographic Projection)')\n",
        "plt.xlabel('Longitude')\n",
        "plt.ylabel('Latitude')\n",
        "ax2.coastlines()\n",
        "plt.grid(True)\n",
        "plt.show()\n"
      ],
      "metadata": {
        "id": "m03u-uB2CbJh"
      },
      "execution_count": null,
      "outputs": []
    },
    {
      "cell_type": "markdown",
      "source": [
        "# El ñino 3.4 index\n",
        "\n",
        "Here, we'll use [Hadley Centre Sea Ice and Sea Surface Temperature data set (HadISST)](https://www.metoffice.gov.uk/hadobs/hadisst/)"
      ],
      "metadata": {
        "id": "lIqtSWThFQe_"
      }
    },
    {
      "cell_type": "code",
      "source": [
        "# !curl -O -C - https://www.metoffice.gov.uk/hadobs/hadisst/data/HadISST_sst.nc.gz\n",
        "# Extract the data\n",
        "# !gunzip HadISST_sst.nc.gz"
      ],
      "metadata": {
        "id": "mnZ9hVQkFVuL"
      },
      "execution_count": 25,
      "outputs": []
    },
    {
      "cell_type": "code",
      "source": [
        "sst_file = f\"HadISST_sst.nc\"\n",
        "sst_dat = xr.open_dataset(sst_file)\n",
        "sst_dat"
      ],
      "metadata": {
        "id": "ASBCFwFeGFb3"
      },
      "execution_count": null,
      "outputs": []
    },
    {
      "cell_type": "code",
      "source": [
        "# Reverse the latitude dimension\n",
        "sst_dat_reversed_lat = sst_dat.isel(latitude=slice(None, None, -1))\n",
        "sst = sst_dat_reversed_lat.sst\n",
        "print(f\"Shape of the SST is {sst}\")"
      ],
      "metadata": {
        "id": "aws2dAhkG76u"
      },
      "execution_count": null,
      "outputs": []
    },
    {
      "cell_type": "markdown",
      "source": [
        "### Compute the index based on the NCAR climate data guide, you can find it here [Nino SST Indices (Nino 1+2, 3, 3.4, 4; ONI and TNI)](https://climatedataguide.ucar.edu/climate-data/nino-sst-indices-nino-12-3-34-4-oni-and-tni)\n",
        "\n",
        "Niño 3.4 (5N-5S, 170W-120W):  The  Niño 3.4 anomalies may be thought of as representing the average equatorial SSTs across the Pacific from about the dateline to the South American coast.  The Niño 3.4 index typically uses a 5-month running mean, and El Niño or La  Niña events are defined when the  Niño 3.4 SSTs exceed +/- 0.4C for a period of six months or more.\n",
        "\n",
        "<button style=\"background-color: #f0f0f0; border: 1px solid #ccc; padding: 20px 30px; border-radius: 10px; cursor: pointer; font-size: 16px;\">lat_lim = [-5, 5]</button>\n",
        "<button style=\"background-color: #f0f0f0; border: 1px solid #ccc; padding: 20px 30px; border-radius: 10px; cursor: pointer; font-size: 16px;\">lon_lim = [-170, -120]</button>"
      ],
      "metadata": {
        "id": "5iFo1v5fH0rO"
      }
    },
    {
      "cell_type": "code",
      "source": [
        "# Slice the SST data\n",
        "lat_lim = slice(-5, 5)\n",
        "lon_lim = slice(-170, -120)\n",
        "sst_subset = sst.sel(latitude=lat_lim, longitude=lon_lim)\n",
        "print(f\"Shape of subset of sea surface temperature data is {sst_subset.shape}\")"
      ],
      "metadata": {
        "id": "CcnE36BLHPIP"
      },
      "execution_count": null,
      "outputs": []
    },
    {
      "cell_type": "code",
      "source": [
        "# Calculate the mean SST over the Niño 3.4 domain\n",
        "sst_mean = sst_subset.mean(dim={'latitude', 'longitude'})\n",
        "print(f\"The mean SST over the ñino 3.4 domain is {sst_mean}\")\n",
        "\n",
        "# Calculate the standard deviation of sst_subset\n",
        "sst_std = sst_subset.std(dim=('latitude', 'longitude'))\n",
        "\n",
        "# Calculate the z-score\n",
        "ñino34 = (sst_mean - sst_mean.mean()) / sst_std\n",
        "print(f\"Ñino 3.4 index is {ñino34}\")"
      ],
      "metadata": {
        "id": "BSJwc6idJglr"
      },
      "execution_count": null,
      "outputs": []
    },
    {
      "cell_type": "code",
      "source": [
        "ñino34_jul = ñino34[0::12]\n",
        "\n",
        "# Plot the Niño 3.4 index for July\n",
        "ñino34_jul.plot()\n",
        "\n",
        "# Add labels and title\n",
        "plt.xlabel('year')\n",
        "plt.ylabel('Z-Score of Niño 3.4 Index')\n",
        "plt.title('Niño 3.4 Index for July')\n",
        "\n",
        "# Show the plot\n",
        "plt.show()"
      ],
      "metadata": {
        "id": "58dbw6nEJwrh"
      },
      "execution_count": null,
      "outputs": []
    },
    {
      "cell_type": "code",
      "source": [
        "for i in range(6):\n",
        "    subset = ñino34[i::12]  # Extract subset with interval of 12 starting from index i\n",
        "    plt.plot(subset.time,subset, label=f'Month = {i+1}')\n",
        "\n",
        "plt.xlabel('Time Step')\n",
        "plt.ylabel('Values')\n",
        "plt.title('Monthly ñino 3.4 index')\n",
        "plt.legend()\n",
        "plt.show()"
      ],
      "metadata": {
        "id": "AzUQtZPIL-nR"
      },
      "execution_count": null,
      "outputs": []
    },
    {
      "cell_type": "code",
      "source": [],
      "metadata": {
        "id": "UC5N5Hu2N2Ea"
      },
      "execution_count": null,
      "outputs": []
    }
  ]
}