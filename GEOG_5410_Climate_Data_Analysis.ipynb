{
  "nbformat": 4,
  "nbformat_minor": 0,
  "metadata": {
    "colab": {
      "provenance": [],
      "toc_visible": true,
      "authorship_tag": "ABX9TyNZn2pJtZoRpGpISKd4FLBC",
      "include_colab_link": true
    },
    "kernelspec": {
      "name": "python3",
      "display_name": "Python 3"
    },
    "language_info": {
      "name": "python"
    }
  },
  "cells": [
    {
      "cell_type": "markdown",
      "metadata": {
        "id": "view-in-github",
        "colab_type": "text"
      },
      "source": [
        "<a href=\"https://colab.research.google.com/github/HUSILEBAI/GEOG-5410/blob/main/GEOG_5410_Climate_Data_Analysis.ipynb\" target=\"_parent\"><img src=\"https://colab.research.google.com/assets/colab-badge.svg\" alt=\"Open In Colab\"/></a>"
      ]
    },
    {
      "cell_type": "markdown",
      "source": [
        "# NAO Analysis"
      ],
      "metadata": {
        "id": "F-BeIpQ5Y07P"
      }
    },
    {
      "cell_type": "markdown",
      "source": [
        "This is the practise code for climate mode analysis. Start with connecting your Google Drive."
      ],
      "metadata": {
        "id": "DbAlkhOGN9mX"
      }
    },
    {
      "cell_type": "code",
      "source": [
        "from google.colab import drive\n",
        "drive.mount('/content/drive')"
      ],
      "metadata": {
        "id": "l0fAikY8NTgz",
        "outputId": "61237546-a011-433e-9ae4-4fd07aa3f00e",
        "colab": {
          "base_uri": "https://localhost:8080/"
        }
      },
      "execution_count": 77,
      "outputs": [
        {
          "output_type": "stream",
          "name": "stdout",
          "text": [
            "Mounted at /content/drive\n"
          ]
        }
      ]
    },
    {
      "cell_type": "markdown",
      "source": [
        "### Sea Level Pressure (SLP) data\n",
        "* Now, let's download the data using <button style=\"background-color: #f0f0f0; border: 1px solid #ccc; padding: 20px 30px; border-radius: 10px; cursor: pointer; font-size: 16px;\">!curl -O -C</button> command. Here, we use [NCEP/DOE Reanalysis II](https://psl.noaa.gov/data/gridded/data.ncep.reanalysis2.html).\n",
        "\n",
        "* Note that you only need to run this section once. And you can turn it off after you have your data downloaded."
      ],
      "metadata": {
        "id": "mzgyDkDsQQd1"
      }
    },
    {
      "cell_type": "code",
      "execution_count": null,
      "metadata": {
        "id": "22J3Cb2-JHZ3"
      },
      "outputs": [],
      "source": [
        "# !curl -O -C - https://downloads.psl.noaa.gov/Datasets/ncep.reanalysis2/Monthlies/surface/mslp.mon.mean.nc"
      ]
    },
    {
      "cell_type": "code",
      "source": [
        "!pip install cartopy eofs\n"
      ],
      "metadata": {
        "id": "yufz4_gWzzXc",
        "colab": {
          "base_uri": "https://localhost:8080/"
        },
        "outputId": "5d335e9e-c156-4cc9-ddc9-07554659a4ee"
      },
      "execution_count": 3,
      "outputs": [
        {
          "output_type": "stream",
          "name": "stdout",
          "text": [
            "Installing collected packages: eofs, cartopy\n",
            "Successfully installed cartopy-0.22.0 eofs-1.4.1\n"
          ]
        }
      ]
    },
    {
      "cell_type": "code",
      "source": [
        "import glob\n",
        "import xarray as xr\n",
        "import numpy as np\n",
        "import cartopy.crs as ccrs\n",
        "import matplotlib.pyplot as plt"
      ],
      "metadata": {
        "id": "0nlg3OX-OIgh"
      },
      "execution_count": 4,
      "outputs": []
    },
    {
      "cell_type": "markdown",
      "source": [
        "Now use [xarray.open_dataset](https://docs.xarray.dev/en/stable/generated/xarray.open_dataset.html) to read monthly mean sea surface pressure dataset.\n",
        "\n",
        "* When you only need to read single file, do <br>\n",
        "<button style=\"background-color: #f0f0f0; border: 1px solid #ccc; padding: 20px 30px; border-radius: 10px; cursor: pointer; font-size: 16px;\">xarray.open_dataset(\"file_name.nc\")</button>\n",
        "\n",
        "* When you need to read multiple files, do <br>\n",
        "<button style=\"background-color: #f0f0f0; border: 1px solid #ccc; padding: 20px 30px; border-radius: 10px; cursor: pointer; font-size: 16px;\">xfile = sorted(glob.glob(file_name))</button> <br>\n",
        "<button style=\"background-color: #f0f0f0; border: 1px solid #ccc; padding: 20px 30px; border-radius: 10px; cursor: pointer; font-size: 16px;\">mslp_dat = xr.open_dataset(file[0])</button>"
      ],
      "metadata": {
        "id": "tXBdZMdAQ8YV"
      }
    },
    {
      "cell_type": "code",
      "source": [
        "file_name = f\"mslp.mon.mean.nc\"\n",
        "mslp_dat = xr.open_dataset(file_name)\n",
        "mslp_dat\n"
      ],
      "metadata": {
        "id": "vK2FBsLdPNfs"
      },
      "execution_count": null,
      "outputs": []
    },
    {
      "cell_type": "code",
      "source": [
        "# Reverse the latitude dimension\n",
        "mslp_dat_reversed_lat = mslp_dat.isel(lat=slice(None, None, -1))\n",
        "mslp_dat_reversed_lat"
      ],
      "metadata": {
        "id": "AhCnz_Iudfqw"
      },
      "execution_count": null,
      "outputs": []
    },
    {
      "cell_type": "code",
      "source": [
        "\n",
        "# Read the data\n",
        "lat = mslp_dat_reversed_lat.lat\n",
        "lon = mslp_dat_reversed_lat.lon\n",
        "mslp = mslp_dat_reversed_lat.mslp\n",
        "print(f\"Shape of latitude data is {lat.shape}\")\n",
        "print(f\"Shape of longitude data is {lon.shape}\")\n",
        "print(f\"Shape of mean sea surface pressure data is {mslp.shape}\\n\")\n",
        "# print(f\"latitude is {lat}\")"
      ],
      "metadata": {
        "id": "M97u3tA6PVSN",
        "outputId": "c4a96a83-afe7-4a65-9b0b-a526fa57add2",
        "colab": {
          "base_uri": "https://localhost:8080/"
        }
      },
      "execution_count": null,
      "outputs": [
        {
          "output_type": "stream",
          "name": "stdout",
          "text": [
            "Shape of latitude data is (73,)\n",
            "Shape of longitude data is (144,)\n",
            "Shape of mean sea surface pressure data is (542, 73, 144)\n",
            "\n"
          ]
        }
      ]
    },
    {
      "cell_type": "markdown",
      "source": [
        "### NAO calculation\n",
        "Here we use [Hurrell North Atlantic Oscillation (NAO) Index (PC-based)](https://climatedataguide.ucar.edu/climate-data/hurrell-north-atlantic-oscillation-nao-index-pc-based) to compute the NAO.\n",
        "\n",
        "<button style=\"background-color: #f0f0f0; border: 3px solid #ccc; padding: 20px 30px; border-radius: 10px; cursor: pointer; font-size: 16px;\">DJF mean</button>\n",
        "<button style=\"background-color: #f0f0f0; border: 3px solid #ccc; padding: 20px 30px; border-radius: 10px; cursor: pointer; font-size: 16px;\">lat_lim = [20 80]</button>\n",
        "<button style=\"background-color: #f0f0f0; border: 3px solid #ccc; padding: 20px 30px; border-radius: 10px; cursor: pointer; font-size: 16px;\">lon_lim = [-90 40]</button>\n"
      ],
      "metadata": {
        "id": "5qS7sf_dXPHz"
      }
    },
    {
      "cell_type": "code",
      "source": [
        "# extract DJF mslp\n",
        "mslp_DJF = mslp.where(mslp['time.season']=='DJF', drop=True)\n",
        "print(f\"Shape of mean sea surface pressure data in DJF is {mslp_DJF.shape}\")"
      ],
      "metadata": {
        "id": "lZ-h6AqfQJoY",
        "outputId": "06f30c99-7507-4864-811b-36c0c2cdf40c",
        "colab": {
          "base_uri": "https://localhost:8080/"
        }
      },
      "execution_count": null,
      "outputs": [
        {
          "output_type": "stream",
          "name": "stdout",
          "text": [
            "Shape of mean sea surface pressure data in DJF is (137, 73, 144)\n"
          ]
        }
      ]
    },
    {
      "cell_type": "code",
      "source": [
        "mslp_DJF_mean = mslp_DJF.mean('time')\n",
        "\n",
        "fig = plt.figure(figsize=(10, 4))\n",
        "ax = fig.add_subplot(1,1,1,projection=ccrs.PlateCarree(central_longitude=0))\n",
        "ax.set_global()\n",
        "cb = ax.contourf(lon, lat, mslp_DJF_mean, levels = 30,transform=ccrs.PlateCarree(), cmap='RdBu_r')\n",
        "ax.coastlines()\n",
        "# Add colorbar\n",
        "cbar = plt.colorbar(cb, ax=ax, orientation='vertical')\n",
        "cbar.set_label('Mean Sea Level Pressure (hPa)')\n",
        "\n",
        "plt.show()"
      ],
      "metadata": {
        "id": "5fStvnEIJdZW"
      },
      "execution_count": null,
      "outputs": []
    },
    {
      "cell_type": "code",
      "source": [
        "import cartopy.util as cutil\n",
        "cdata, clon, clat = cutil.add_cyclic(mslp_DJF_mean, lon, lat)\n",
        "fig = plt.figure(figsize=(10, 4))\n",
        "ax = fig.add_subplot(1,1,1,projection=ccrs.PlateCarree(central_longitude=0))\n",
        "ax.set_global()\n",
        "cb = ax.contourf(clon, clat, cdata, levels = 30,transform=ccrs.PlateCarree(), cmap='RdBu_r')\n",
        "ax.coastlines()\n",
        "# Add colorbar\n",
        "cbar = plt.colorbar(cb, ax=ax, orientation='vertical')\n",
        "cbar.set_label('Mean Sea Level Pressure (hPa)')\n",
        "plt.show()"
      ],
      "metadata": {
        "id": "JsKlzF13Kfrm"
      },
      "execution_count": null,
      "outputs": []
    },
    {
      "cell_type": "code",
      "source": [
        "# slice the mslp\n",
        "lat_slice = slice(20, 80) # if slice(20, 80, -1) -1 is to reverse the latitude dimension\n",
        "\n",
        "# Define the longitude slicing ranges\n",
        "lon_slice1 = slice(270, 360)  # Slicing from 270°E to 360°E\n",
        "lon_slice2 = slice(0, 40)  # Slicing from 0°E to 40°E\n",
        "\n",
        "# Slice the data along the longitude dimension for each range\n",
        "mslp_DJF_subset1 = mslp_DJF.sel(lat=lat_slice, lon=lon_slice1)\n",
        "mslp_DJF_subset2 = mslp_DJF.sel(lat=lat_slice, lon=lon_slice2)\n",
        "\n",
        "# Concatenate the subsets along the longitude dimension\n",
        "mslp_DJF_subset = xr.concat([mslp_DJF_subset1, mslp_DJF_subset2], dim='lon')\n",
        "\n",
        "print(f\"Shape of subset of mean sea surface pressure data in DJF is {mslp_DJF_subset.shape}\")"
      ],
      "metadata": {
        "id": "v99W1UdMWfZk",
        "outputId": "88711388-9d4e-4a49-b5ba-c93e63449069",
        "colab": {
          "base_uri": "https://localhost:8080/"
        }
      },
      "execution_count": null,
      "outputs": [
        {
          "output_type": "stream",
          "name": "stdout",
          "text": [
            "Shape of subset of mean sea surface pressure data in DJF is (137, 25, 53)\n"
          ]
        }
      ]
    },
    {
      "cell_type": "markdown",
      "source": [
        "### EOF analysis\n",
        "\n",
        "You might need to install eofs package in your colab env. Please run this <button style=\"background-color: #f0f0f0; border: 3px solid #ccc; padding: 20px 30px; border-radius: 10px; cursor: pointer; font-size: 16px;\">!pip install eofs</button>  and install eof function first."
      ],
      "metadata": {
        "id": "HZ21m9O6eQE0"
      }
    },
    {
      "cell_type": "code",
      "source": [
        "from eofs.xarray import Eof"
      ],
      "metadata": {
        "id": "QNzEBpbBb-aG"
      },
      "execution_count": null,
      "outputs": []
    },
    {
      "cell_type": "code",
      "source": [
        "# Calculate the anomaly of mslp_DJF_subset\n",
        "mslp_DJF_anomaly = mslp_DJF_subset - mslp_DJF_subset.mean(dim='time')\n",
        "print(f\"Shape of anomaly of the DJF mean sea surface pressure data is {mslp_DJF_anomaly.shape}\")"
      ],
      "metadata": {
        "id": "dSBgC8-3fPaG",
        "outputId": "978024bb-66f1-440f-e8f7-79a7128ff451",
        "colab": {
          "base_uri": "https://localhost:8080/"
        }
      },
      "execution_count": null,
      "outputs": [
        {
          "output_type": "stream",
          "name": "stdout",
          "text": [
            "Shape of anomaly of the DJF mean sea surface pressure data is (137, 25, 53)\n"
          ]
        }
      ]
    },
    {
      "cell_type": "code",
      "source": [
        "# Create an EOF solver\n",
        "solver = Eof(mslp_DJF_anomaly.transpose('time', 'lat', 'lon'))"
      ],
      "metadata": {
        "id": "5we9s7sSgW5g"
      },
      "execution_count": null,
      "outputs": []
    },
    {
      "cell_type": "code",
      "source": [
        "# Retrieve the leading EOF (EOF 1)\n",
        "eof1 = solver.eofsAsCorrelation(neofs=1)\n",
        "# Retrieve the PC time series of the leading EOF\n",
        "pc1 = solver.pcs(npcs=1, pcscaling=1)\n",
        "# Normalize the NAO index\n",
        "nao_index_normalized = (pc1.values[:, 0] - np.mean(pc1.values[:, 0])) / np.std(pc1.values[:, 0])\n",
        "\n",
        "# Print the shape of EOF1 and PC1\n",
        "print(\"Shape of EOF 1:\", eof1.shape)\n",
        "print(\"Shape of PC 1:\", pc1.shape)\n",
        "print(\"Shape of NAO index:\", nao_index_normalized.shape)\n"
      ],
      "metadata": {
        "id": "En6b_fDmfo3e",
        "outputId": "f6924d76-1461-4518-adee-06d99f07b522",
        "colab": {
          "base_uri": "https://localhost:8080/"
        }
      },
      "execution_count": null,
      "outputs": [
        {
          "output_type": "stream",
          "name": "stdout",
          "text": [
            "Shape of EOF 1: (1, 25, 53)\n",
            "Shape of PC 1: (137, 1)\n",
            "Shape of NAO index: (137,)\n"
          ]
        }
      ]
    },
    {
      "cell_type": "code",
      "source": [
        "# Plot the leading EOF (EOF 1)\n",
        "fig, axes = plt.subplots(1, 2, figsize=(16, 4))\n",
        "\n",
        "# Plot the EOF\n",
        "im = axes[0].contourf(eof1[0, :, :])\n",
        "fig.colorbar(im, ax=axes[0], label='EOF amplitude')\n",
        "axes[0].set_title('Leading EOF (EOF 1)')\n",
        "axes[0].set_xlabel('Longitude')\n",
        "axes[0].set_ylabel('Latitude')\n",
        "axes[0].set_xticks(range(0, eof1.shape[2] + 1, 10))\n",
        "axes[0].set_yticks(range(0, eof1.shape[1] + 1, 10))\n",
        "axes[0].grid(True)\n",
        "\n",
        "# Plot the NAO index time series\n",
        "axes[1].plot(pc1.time, nao_index_normalized)\n",
        "axes[1].set_title('North Atlantic Oscillation (NAO) Index')\n",
        "axes[1].set_xlabel('year')\n",
        "axes[1].set_ylabel('Normalized Index')\n",
        "axes[1].grid(True)\n",
        "\n",
        "plt.tight_layout()\n",
        "plt.show()"
      ],
      "metadata": {
        "id": "kQCxszH8RhBW"
      },
      "execution_count": null,
      "outputs": []
    },
    {
      "cell_type": "code",
      "source": [
        "# Calculate the Pearson correlation coefficient using NumPy and xarray\n",
        "corr_coef = xr.corr(mslp_DJF, xr.DataArray(nao_index_normalized, dims='time'), dim='time')"
      ],
      "metadata": {
        "id": "_1hR92I6i0ET"
      },
      "execution_count": null,
      "outputs": []
    },
    {
      "cell_type": "code",
      "source": [
        "cdata, clon, clat = cutil.add_cyclic(corr_coef, lon, lat)\n",
        "fig = plt.figure(figsize=(8,3))\n",
        "ax = fig.add_subplot(1,1,1, projection=ccrs.PlateCarree(central_longitude=0))\n",
        "ax.set_global()\n",
        "cb = ax.contourf(clon, clat, cdata, levels = 30, transform=ccrs.PlateCarree(), cmap='RdBu_r')\n",
        "ax.coastlines()\n",
        "cbar = plt.colorbar(cb, ax=ax, orientation='vertical')\n",
        "cbar.set_label('Correlation Map (Plate Carree Projection)')\n",
        "plt.show()\n",
        "\n",
        "\n",
        "fig = plt.figure()\n",
        "ax = fig.add_subplot(1,1,1, projection=ccrs.Orthographic(central_longitude=-10, central_latitude=90))\n",
        "ax.set_global()\n",
        "cb = ax.contourf(clon, clat, cdata, levels = 30, transform=ccrs.PlateCarree(), cmap='RdBu_r')\n",
        "ax.coastlines()\n",
        "cbar = plt.colorbar(cb, ax=ax, orientation='vertical')\n",
        "cbar.set_label('Correlation Map (Orthographic Projection)')\n",
        "plt.show()\n",
        "\n"
      ],
      "metadata": {
        "id": "m03u-uB2CbJh"
      },
      "execution_count": null,
      "outputs": []
    },
    {
      "cell_type": "markdown",
      "source": [
        "# NPO anaylsis\n",
        "<button style=\"background-color: #f0f0f0; border: 3px solid #ccc; padding: 20px 30px; border-radius: 10px; cursor: pointer; font-size: 16px;\">January mean</button>\n",
        "<button style=\"background-color: #f0f0f0; border: 3px solid #ccc; padding: 20px 30px; border-radius: 10px; cursor: pointer; font-size: 16px;\">lat_lim = [20 90]</button>\n",
        "<button style=\"background-color: #f0f0f0; border: 3px solid #ccc; padding: 20px 30px; border-radius: 10px; cursor: pointer; font-size: 16px;\">lon_lim = [120 240]</button>"
      ],
      "metadata": {
        "id": "ORGyxt-6O-tE"
      }
    },
    {
      "cell_type": "code",
      "source": [
        "# extract January mslp\n",
        "mslp_jan= mslp.where(mslp['time.month']==1, drop=True)\n",
        "print(f\"Shape of mean sea level pressure data in January is {mslp_jan.shape}\")\n",
        "# subset data to NPO domain\n",
        "lat_lim = slice(20,90)\n",
        "lon_lim = slice(120,240)\n",
        "mslp_jan_subset = mslp_jan.sel(lat=lat_lim, lon=lon_lim)\n",
        "print(f\"Shape of subset mean sea level pressure data in January is {mslp_jan_subset.shape}\")"
      ],
      "metadata": {
        "id": "HxpvpFCk4hyi",
        "colab": {
          "base_uri": "https://localhost:8080/"
        },
        "outputId": "5e8f4fe6-0d73-449c-bfe2-29b325ba91f0"
      },
      "execution_count": null,
      "outputs": [
        {
          "output_type": "stream",
          "name": "stdout",
          "text": [
            "Shape of mean sea level pressure data in January is (46, 73, 144)\n",
            "Shape of subset mean sea level pressure data in January is (46, 29, 49)\n"
          ]
        }
      ]
    },
    {
      "cell_type": "code",
      "source": [
        "# Calculate the anomaly of mslp_Jan_subset\n",
        "mslp_jan_anomaly = mslp_jan_subset - mslp_jan_subset.mean(dim='time')\n",
        "print(f\"Shape of anomaly of the Jan mean sea surface pressure data is {mslp_jan_anomaly.shape}\")\n",
        "# Create an EOF solver\n",
        "solver = Eof(mslp_jan_anomaly.transpose('time', 'lat', 'lon'))\n",
        "# Retrieve the leading EOF (EOF 1)\n",
        "eof1 = solver.eofsAsCorrelation(neofs=1)\n",
        "# Retrieve the PC time series of the leading EOF\n",
        "pc1 = solver.pcs(npcs=1, pcscaling=1)\n",
        "# Normalize the NAO index\n",
        "npo_index_normalized = (pc1.values[:, 0] - np.mean(pc1.values[:, 0])) / np.std(pc1.values[:, 0])\n",
        "\n",
        "# Print the shape of EOF1 and PC1\n",
        "print(\"Shape of EOF 1:\", eof1.shape)\n",
        "print(\"Shape of PC 1:\", pc1.shape)\n",
        "print(\"Shape of NAO index:\", nao_index_normalized.shape)\n",
        "\n",
        "# Plot the leading EOF (EOF 1)\n",
        "fig, axes = plt.subplots(1, 2, figsize=(16, 4))\n",
        "# Plot the EOF\n",
        "im = axes[0].contourf(eof1[0, :, :])\n",
        "fig.colorbar(im, ax=axes[0], label='EOF amplitude')\n",
        "axes[0].set_title('Leading EOF (EOF 1)')\n",
        "axes[0].set_xlabel('Longitude')\n",
        "axes[0].set_ylabel('Latitude')\n",
        "axes[0].set_xticks(range(0, eof1.shape[2] + 1, 10))\n",
        "axes[0].set_yticks(range(0, eof1.shape[1] + 1, 10))\n",
        "axes[0].grid(True)\n",
        "\n",
        "# Plot the NAO index time series\n",
        "axes[1].plot(pc1.time, npo_index_normalized)\n",
        "axes[1].set_title('North Pacific Oscillation (NAO) Index')\n",
        "axes[1].set_xlabel('year')\n",
        "axes[1].set_ylabel('Normalized Index')\n",
        "axes[1].grid(True)\n",
        "\n",
        "plt.tight_layout()\n",
        "plt.show()"
      ],
      "metadata": {
        "id": "kLFCk49PRrQ-"
      },
      "execution_count": null,
      "outputs": []
    },
    {
      "cell_type": "code",
      "source": [
        "# Calculate the Pearson correlation coefficient using NumPy and xarray\n",
        "corr_coef = xr.corr(mslp_jan, xr.DataArray(npo_index_normalized, dims='time'), dim='time')\n",
        "cdata, clon, clat = cutil.add_cyclic(corr_coef, lon, lat)\n",
        "fig = plt.figure()\n",
        "ax = fig.add_subplot(1,1,1, projection=ccrs.Orthographic(central_longitude=180, central_latitude=90))\n",
        "ax.set_global()\n",
        "cb = ax.contourf(clon, clat, cdata, levels = 30, transform=ccrs.PlateCarree(), cmap='RdBu_r')\n",
        "ax.coastlines()\n",
        "cbar = plt.colorbar(cb, ax=ax, orientation='vertical')\n",
        "cbar.set_label('Correlation Map (Orthographic Projection)')\n",
        "plt.show()"
      ],
      "metadata": {
        "id": "9hw4t4WtSIzJ"
      },
      "execution_count": null,
      "outputs": []
    },
    {
      "cell_type": "markdown",
      "source": [
        "# El ñino 3.4 index\n",
        "\n",
        "Here, we'll use [Hadley Centre Sea Ice and Sea Surface Temperature data set (HadISST)](https://www.metoffice.gov.uk/hadobs/hadisst/)"
      ],
      "metadata": {
        "id": "lIqtSWThFQe_"
      }
    },
    {
      "cell_type": "code",
      "source": [
        "!curl -O -C - https://www.metoffice.gov.uk/hadobs/hadisst/data/HadISST_sst.nc.gz\n",
        "# Extract the data\n",
        "!gunzip HadISST_sst.nc.gz"
      ],
      "metadata": {
        "id": "mnZ9hVQkFVuL",
        "outputId": "a6dac24a-f4f9-4053-d431-94d959d9273a",
        "colab": {
          "base_uri": "https://localhost:8080/"
        }
      },
      "execution_count": null,
      "outputs": [
        {
          "output_type": "stream",
          "name": "stdout",
          "text": [
            "  % Total    % Received % Xferd  Average Speed   Time    Time     Time  Current\n",
            "                                 Dload  Upload   Total   Spent    Left  Speed\n",
            "100  228M  100  228M    0     0  62.3M      0  0:00:03  0:00:03 --:--:-- 62.3M\n"
          ]
        }
      ]
    },
    {
      "cell_type": "code",
      "source": [
        "sst_file = f\"HadISST_sst.nc\"\n",
        "sst_dat = xr.open_dataset(sst_file)\n",
        "sst_dat"
      ],
      "metadata": {
        "id": "ASBCFwFeGFb3"
      },
      "execution_count": null,
      "outputs": []
    },
    {
      "cell_type": "code",
      "source": [
        "# Reverse the latitude dimension\n",
        "sst_dat_reversed_lat = sst_dat.isel(latitude=slice(None, None, -1))\n",
        "sst = sst_dat_reversed_lat.sst\n",
        "print(f\"Shape of the SST is {sst}\")"
      ],
      "metadata": {
        "id": "aws2dAhkG76u",
        "outputId": "6cbdd1c9-384b-4a6e-bd1c-0a935eafa364",
        "colab": {
          "base_uri": "https://localhost:8080/"
        }
      },
      "execution_count": null,
      "outputs": [
        {
          "output_type": "stream",
          "name": "stdout",
          "text": [
            "Shape of the SST is <xarray.DataArray 'sst' (time: 1849, latitude: 180, longitude: 360)>\n",
            "[119815200 values with dtype=float32]\n",
            "Coordinates:\n",
            "  * time       (time) datetime64[ns] 1870-01-16T11:59:59.505615234 ... 2024-0...\n",
            "  * latitude   (latitude) float32 -89.5 -88.5 -87.5 -86.5 ... 87.5 88.5 89.5\n",
            "  * longitude  (longitude) float32 -179.5 -178.5 -177.5 ... 177.5 178.5 179.5\n",
            "Attributes:\n",
            "    standard_name:  sea_surface_temperature\n",
            "    long_name:      sst\n",
            "    units:          C\n",
            "    cell_methods:   time: lat: lon: mean\n"
          ]
        }
      ]
    },
    {
      "cell_type": "markdown",
      "source": [
        "### Compute the index based on the NCAR climate data guide, you can find it here [Nino SST Indices (Nino 1+2, 3, 3.4, 4; ONI and TNI)](https://climatedataguide.ucar.edu/climate-data/nino-sst-indices-nino-12-3-34-4-oni-and-tni)\n",
        "\n",
        "Niño 3.4 (5N-5S, 170W-120W):  The  Niño 3.4 anomalies may be thought of as representing the average equatorial SSTs across the Pacific from about the dateline to the South American coast.  The Niño 3.4 index typically uses a 5-month running mean, and El Niño or La  Niña events are defined when the  Niño 3.4 SSTs exceed +/- 0.4C for a period of six months or more.\n",
        "\n",
        "<button style=\"background-color: #f0f0f0; border: 1px solid #ccc; padding: 20px 30px; border-radius: 10px; cursor: pointer; font-size: 16px;\">lat_lim = [-5, 5]</button>\n",
        "<button style=\"background-color: #f0f0f0; border: 1px solid #ccc; padding: 20px 30px; border-radius: 10px; cursor: pointer; font-size: 16px;\">lon_lim = [-170, -120]</button>"
      ],
      "metadata": {
        "id": "5iFo1v5fH0rO"
      }
    },
    {
      "cell_type": "code",
      "source": [
        "# Slice the SST data\n",
        "lat_lim = slice(-5, 5)\n",
        "lon_lim = slice(-170, -120)\n",
        "sst_subset = sst.sel(latitude=lat_lim, longitude=lon_lim)\n",
        "print(f\"Shape of subset of sea surface temperature data is {sst_subset.shape}\")"
      ],
      "metadata": {
        "id": "CcnE36BLHPIP",
        "outputId": "5e74499f-aaab-44a9-fcf9-d44f11e33dd9",
        "colab": {
          "base_uri": "https://localhost:8080/"
        }
      },
      "execution_count": null,
      "outputs": [
        {
          "output_type": "stream",
          "name": "stdout",
          "text": [
            "Shape of subset of sea surface temperature data is (1849, 10, 50)\n"
          ]
        }
      ]
    },
    {
      "cell_type": "code",
      "source": [
        "# Calculate the mean SST over the Niño 3.4 domain\n",
        "sst_mean = sst_subset.mean(dim={'latitude', 'longitude'})\n",
        "print(f\"The mean SST over the ñino 3.4 domain is {sst_mean}\")\n",
        "\n",
        "# Calculate the standard deviation of sst_subset\n",
        "sst_std = sst_subset.std(dim=('latitude', 'longitude'))\n",
        "\n",
        "# Calculate the z-score\n",
        "ñino34 = (sst_mean - sst_mean.mean()) / sst_std\n",
        "print(f\"Ñino 3.4 index is {ñino34}\")"
      ],
      "metadata": {
        "id": "BSJwc6idJglr",
        "outputId": "19779687-57d1-41dc-86af-eb0e43a063b4",
        "colab": {
          "base_uri": "https://localhost:8080/"
        }
      },
      "execution_count": null,
      "outputs": [
        {
          "output_type": "stream",
          "name": "stdout",
          "text": [
            "The mean SST over the ñino 3.4 domain is <xarray.DataArray 'sst' (time: 1849)>\n",
            "array([25.53982 , 25.541965, 26.419275, ..., 28.633043, 28.368902,\n",
            "       28.260172], dtype=float32)\n",
            "Coordinates:\n",
            "  * time     (time) datetime64[ns] 1870-01-16T11:59:59.505615234 ... 2024-01-...\n",
            "Ñino 3.4 index is <xarray.DataArray 'sst' (time: 1849)>\n",
            "array([-1.1359055, -1.8942174, -0.9131663, ...,  1.6145716,  1.5041076,\n",
            "        1.4923558], dtype=float32)\n",
            "Coordinates:\n",
            "  * time     (time) datetime64[ns] 1870-01-16T11:59:59.505615234 ... 2024-01-...\n"
          ]
        }
      ]
    },
    {
      "cell_type": "code",
      "source": [
        "ñino34_jul = ñino34[0::12]\n",
        "\n",
        "# Plot the Niño 3.4 index for July\n",
        "ñino34_jul.plot()\n",
        "\n",
        "# Add labels and title\n",
        "plt.xlabel('year')\n",
        "plt.ylabel('Z-Score of Niño 3.4 Index')\n",
        "plt.title('Niño 3.4 Index for July')\n",
        "\n",
        "# Show the plot\n",
        "plt.show()"
      ],
      "metadata": {
        "id": "58dbw6nEJwrh"
      },
      "execution_count": null,
      "outputs": []
    },
    {
      "cell_type": "code",
      "source": [
        "for i in range(6):\n",
        "    subset = ñino34[i::12]  # Extract subset with interval of 12 starting from index i\n",
        "    plt.plot(subset.time,subset, label=f'Month = {i+1}')\n",
        "\n",
        "plt.xlabel('Time Step')\n",
        "plt.ylabel('Values')\n",
        "plt.title('Monthly ñino 3.4 index')\n",
        "plt.legend()\n",
        "plt.show()"
      ],
      "metadata": {
        "id": "AzUQtZPIL-nR"
      },
      "execution_count": null,
      "outputs": []
    },
    {
      "cell_type": "code",
      "source": [
        "# sst_jul = sst.where(sst['time.month']==7,drop=True)\n",
        "# sst_jul = sst_jul.where((sst_jul != -1000), np.nan)\n",
        "# # corr = xr.corr(sst_jul, nino34_jul, dim='time', skipna=True)\n",
        "# corr = xr.corr(sst_jul, xr.DataArray(ñino34_jul, dims='time'), dim='time')\n",
        "# corr"
      ],
      "metadata": {
        "id": "UC5N5Hu2N2Ea"
      },
      "execution_count": null,
      "outputs": []
    },
    {
      "cell_type": "code",
      "source": [
        "# fig = plt.figure()\n",
        "# ax = fig.add_subplot(1,1,1, projection=ccrs.Robinson())\n",
        "# ax.set_global()\n",
        "# cb = ax.contourf(sst.longitude, sst.latitude, corr, levels = 30, transform=ccrs.PlateCarree(), cmap='RdBu_r')\n",
        "# ax.coastlines()\n",
        "# cbar = plt.colorbar(cb, ax=ax, orientation='vertical')\n",
        "# cbar.set_label('Correlation Map')\n",
        "# plt.show()"
      ],
      "metadata": {
        "id": "IeSFuwK-0pcu"
      },
      "execution_count": null,
      "outputs": []
    },
    {
      "cell_type": "markdown",
      "source": [
        "# surface temperature"
      ],
      "metadata": {
        "id": "Qn2h4scwNBqO"
      }
    },
    {
      "cell_type": "code",
      "source": [
        "!curl -O -C - https://downloads.psl.noaa.gov/Datasets/ncep.reanalysis2/Monthlies/gaussian_grid/air.2m.mon.mean.nc"
      ],
      "metadata": {
        "colab": {
          "base_uri": "https://localhost:8080/"
        },
        "id": "HYP38aHgNAYo",
        "outputId": "0ca45279-deb0-4675-f414-fcaa0607e8f7"
      },
      "execution_count": 5,
      "outputs": [
        {
          "output_type": "stream",
          "name": "stdout",
          "text": [
            "  % Total    % Received % Xferd  Average Speed   Time    Time     Time  Current\n",
            "                                 Dload  Upload   Total   Spent    Left  Speed\n",
            "100 19.2M  100 19.2M    0     0  13.4M      0  0:00:01  0:00:01 --:--:-- 13.4M\n"
          ]
        }
      ]
    },
    {
      "cell_type": "code",
      "source": [
        "file_name = f\"air.2m.mon.mean.nc\"\n",
        "t2_dat = xr.open_dataset(file_name)\n",
        "t2_dat = t2_dat.isel(lat=slice(None, None, -1))\n",
        "t2_dat"
      ],
      "metadata": {
        "id": "wumZyU6Q1Xvb",
        "colab": {
          "base_uri": "https://localhost:8080/",
          "height": 310
        },
        "outputId": "c4a0f35d-ba56-42e0-b67a-df370e1bc916"
      },
      "execution_count": 31,
      "outputs": [
        {
          "output_type": "execute_result",
          "data": {
            "text/plain": [
              "<xarray.Dataset>\n",
              "Dimensions:    (level: 1, lat: 94, lon: 192, time: 542, nbnds: 2)\n",
              "Coordinates:\n",
              "  * level      (level) float32 2.0\n",
              "  * lat        (lat) float32 -88.54 -86.65 -84.75 -82.85 ... 84.75 86.65 88.54\n",
              "  * lon        (lon) float32 0.0 1.875 3.75 5.625 ... 352.5 354.4 356.2 358.1\n",
              "  * time       (time) datetime64[ns] 1979-01-01 1979-02-01 ... 2024-02-01\n",
              "Dimensions without coordinates: nbnds\n",
              "Data variables:\n",
              "    time_bnds  (time, nbnds) datetime64[ns] ...\n",
              "    air        (time, level, lat, lon) float32 ...\n",
              "Attributes:\n",
              "    Conventions:    CF-1.0\n",
              "    title:          Monthly NCEP/DOE Reanalysis 2\n",
              "    comments:       Data is from \\nNCEP/DOE AMIP-II Reanalysis (Reanalysis-2)...\n",
              "    platform:       Model\n",
              "    source:         NCEP/DOE AMIP-II Reanalysis (Reanalysis-2) Model\n",
              "    institution:    National Centers for Environmental Prediction\n",
              "    dataset_title:  NCEP-DOE AMIP-II Reanalysis\n",
              "    References:     https://www.psl.noaa.gov/data/gridded/data.ncep.reanalysi...\n",
              "    source_url:     http://www.cpc.ncep.noaa.gov/products/wesley/reanalysis2/\n",
              "    history:        created 2002/03 by Hoop (netCDF2.3)\\nConverted to chunked..."
            ],
            "text/html": [
              "<div><svg style=\"position: absolute; width: 0; height: 0; overflow: hidden\">\n",
              "<defs>\n",
              "<symbol id=\"icon-database\" viewBox=\"0 0 32 32\">\n",
              "<path d=\"M16 0c-8.837 0-16 2.239-16 5v4c0 2.761 7.163 5 16 5s16-2.239 16-5v-4c0-2.761-7.163-5-16-5z\"></path>\n",
              "<path d=\"M16 17c-8.837 0-16-2.239-16-5v6c0 2.761 7.163 5 16 5s16-2.239 16-5v-6c0 2.761-7.163 5-16 5z\"></path>\n",
              "<path d=\"M16 26c-8.837 0-16-2.239-16-5v6c0 2.761 7.163 5 16 5s16-2.239 16-5v-6c0 2.761-7.163 5-16 5z\"></path>\n",
              "</symbol>\n",
              "<symbol id=\"icon-file-text2\" viewBox=\"0 0 32 32\">\n",
              "<path d=\"M28.681 7.159c-0.694-0.947-1.662-2.053-2.724-3.116s-2.169-2.030-3.116-2.724c-1.612-1.182-2.393-1.319-2.841-1.319h-15.5c-1.378 0-2.5 1.121-2.5 2.5v27c0 1.378 1.122 2.5 2.5 2.5h23c1.378 0 2.5-1.122 2.5-2.5v-19.5c0-0.448-0.137-1.23-1.319-2.841zM24.543 5.457c0.959 0.959 1.712 1.825 2.268 2.543h-4.811v-4.811c0.718 0.556 1.584 1.309 2.543 2.268zM28 29.5c0 0.271-0.229 0.5-0.5 0.5h-23c-0.271 0-0.5-0.229-0.5-0.5v-27c0-0.271 0.229-0.5 0.5-0.5 0 0 15.499-0 15.5 0v7c0 0.552 0.448 1 1 1h7v19.5z\"></path>\n",
              "<path d=\"M23 26h-14c-0.552 0-1-0.448-1-1s0.448-1 1-1h14c0.552 0 1 0.448 1 1s-0.448 1-1 1z\"></path>\n",
              "<path d=\"M23 22h-14c-0.552 0-1-0.448-1-1s0.448-1 1-1h14c0.552 0 1 0.448 1 1s-0.448 1-1 1z\"></path>\n",
              "<path d=\"M23 18h-14c-0.552 0-1-0.448-1-1s0.448-1 1-1h14c0.552 0 1 0.448 1 1s-0.448 1-1 1z\"></path>\n",
              "</symbol>\n",
              "</defs>\n",
              "</svg>\n",
              "<style>/* CSS stylesheet for displaying xarray objects in jupyterlab.\n",
              " *\n",
              " */\n",
              "\n",
              ":root {\n",
              "  --xr-font-color0: var(--jp-content-font-color0, rgba(0, 0, 0, 1));\n",
              "  --xr-font-color2: var(--jp-content-font-color2, rgba(0, 0, 0, 0.54));\n",
              "  --xr-font-color3: var(--jp-content-font-color3, rgba(0, 0, 0, 0.38));\n",
              "  --xr-border-color: var(--jp-border-color2, #e0e0e0);\n",
              "  --xr-disabled-color: var(--jp-layout-color3, #bdbdbd);\n",
              "  --xr-background-color: var(--jp-layout-color0, white);\n",
              "  --xr-background-color-row-even: var(--jp-layout-color1, white);\n",
              "  --xr-background-color-row-odd: var(--jp-layout-color2, #eeeeee);\n",
              "}\n",
              "\n",
              "html[theme=dark],\n",
              "body[data-theme=dark],\n",
              "body.vscode-dark {\n",
              "  --xr-font-color0: rgba(255, 255, 255, 1);\n",
              "  --xr-font-color2: rgba(255, 255, 255, 0.54);\n",
              "  --xr-font-color3: rgba(255, 255, 255, 0.38);\n",
              "  --xr-border-color: #1F1F1F;\n",
              "  --xr-disabled-color: #515151;\n",
              "  --xr-background-color: #111111;\n",
              "  --xr-background-color-row-even: #111111;\n",
              "  --xr-background-color-row-odd: #313131;\n",
              "}\n",
              "\n",
              ".xr-wrap {\n",
              "  display: block !important;\n",
              "  min-width: 300px;\n",
              "  max-width: 700px;\n",
              "}\n",
              "\n",
              ".xr-text-repr-fallback {\n",
              "  /* fallback to plain text repr when CSS is not injected (untrusted notebook) */\n",
              "  display: none;\n",
              "}\n",
              "\n",
              ".xr-header {\n",
              "  padding-top: 6px;\n",
              "  padding-bottom: 6px;\n",
              "  margin-bottom: 4px;\n",
              "  border-bottom: solid 1px var(--xr-border-color);\n",
              "}\n",
              "\n",
              ".xr-header > div,\n",
              ".xr-header > ul {\n",
              "  display: inline;\n",
              "  margin-top: 0;\n",
              "  margin-bottom: 0;\n",
              "}\n",
              "\n",
              ".xr-obj-type,\n",
              ".xr-array-name {\n",
              "  margin-left: 2px;\n",
              "  margin-right: 10px;\n",
              "}\n",
              "\n",
              ".xr-obj-type {\n",
              "  color: var(--xr-font-color2);\n",
              "}\n",
              "\n",
              ".xr-sections {\n",
              "  padding-left: 0 !important;\n",
              "  display: grid;\n",
              "  grid-template-columns: 150px auto auto 1fr 20px 20px;\n",
              "}\n",
              "\n",
              ".xr-section-item {\n",
              "  display: contents;\n",
              "}\n",
              "\n",
              ".xr-section-item input {\n",
              "  display: none;\n",
              "}\n",
              "\n",
              ".xr-section-item input + label {\n",
              "  color: var(--xr-disabled-color);\n",
              "}\n",
              "\n",
              ".xr-section-item input:enabled + label {\n",
              "  cursor: pointer;\n",
              "  color: var(--xr-font-color2);\n",
              "}\n",
              "\n",
              ".xr-section-item input:enabled + label:hover {\n",
              "  color: var(--xr-font-color0);\n",
              "}\n",
              "\n",
              ".xr-section-summary {\n",
              "  grid-column: 1;\n",
              "  color: var(--xr-font-color2);\n",
              "  font-weight: 500;\n",
              "}\n",
              "\n",
              ".xr-section-summary > span {\n",
              "  display: inline-block;\n",
              "  padding-left: 0.5em;\n",
              "}\n",
              "\n",
              ".xr-section-summary-in:disabled + label {\n",
              "  color: var(--xr-font-color2);\n",
              "}\n",
              "\n",
              ".xr-section-summary-in + label:before {\n",
              "  display: inline-block;\n",
              "  content: '►';\n",
              "  font-size: 11px;\n",
              "  width: 15px;\n",
              "  text-align: center;\n",
              "}\n",
              "\n",
              ".xr-section-summary-in:disabled + label:before {\n",
              "  color: var(--xr-disabled-color);\n",
              "}\n",
              "\n",
              ".xr-section-summary-in:checked + label:before {\n",
              "  content: '▼';\n",
              "}\n",
              "\n",
              ".xr-section-summary-in:checked + label > span {\n",
              "  display: none;\n",
              "}\n",
              "\n",
              ".xr-section-summary,\n",
              ".xr-section-inline-details {\n",
              "  padding-top: 4px;\n",
              "  padding-bottom: 4px;\n",
              "}\n",
              "\n",
              ".xr-section-inline-details {\n",
              "  grid-column: 2 / -1;\n",
              "}\n",
              "\n",
              ".xr-section-details {\n",
              "  display: none;\n",
              "  grid-column: 1 / -1;\n",
              "  margin-bottom: 5px;\n",
              "}\n",
              "\n",
              ".xr-section-summary-in:checked ~ .xr-section-details {\n",
              "  display: contents;\n",
              "}\n",
              "\n",
              ".xr-array-wrap {\n",
              "  grid-column: 1 / -1;\n",
              "  display: grid;\n",
              "  grid-template-columns: 20px auto;\n",
              "}\n",
              "\n",
              ".xr-array-wrap > label {\n",
              "  grid-column: 1;\n",
              "  vertical-align: top;\n",
              "}\n",
              "\n",
              ".xr-preview {\n",
              "  color: var(--xr-font-color3);\n",
              "}\n",
              "\n",
              ".xr-array-preview,\n",
              ".xr-array-data {\n",
              "  padding: 0 5px !important;\n",
              "  grid-column: 2;\n",
              "}\n",
              "\n",
              ".xr-array-data,\n",
              ".xr-array-in:checked ~ .xr-array-preview {\n",
              "  display: none;\n",
              "}\n",
              "\n",
              ".xr-array-in:checked ~ .xr-array-data,\n",
              ".xr-array-preview {\n",
              "  display: inline-block;\n",
              "}\n",
              "\n",
              ".xr-dim-list {\n",
              "  display: inline-block !important;\n",
              "  list-style: none;\n",
              "  padding: 0 !important;\n",
              "  margin: 0;\n",
              "}\n",
              "\n",
              ".xr-dim-list li {\n",
              "  display: inline-block;\n",
              "  padding: 0;\n",
              "  margin: 0;\n",
              "}\n",
              "\n",
              ".xr-dim-list:before {\n",
              "  content: '(';\n",
              "}\n",
              "\n",
              ".xr-dim-list:after {\n",
              "  content: ')';\n",
              "}\n",
              "\n",
              ".xr-dim-list li:not(:last-child):after {\n",
              "  content: ',';\n",
              "  padding-right: 5px;\n",
              "}\n",
              "\n",
              ".xr-has-index {\n",
              "  font-weight: bold;\n",
              "}\n",
              "\n",
              ".xr-var-list,\n",
              ".xr-var-item {\n",
              "  display: contents;\n",
              "}\n",
              "\n",
              ".xr-var-item > div,\n",
              ".xr-var-item label,\n",
              ".xr-var-item > .xr-var-name span {\n",
              "  background-color: var(--xr-background-color-row-even);\n",
              "  margin-bottom: 0;\n",
              "}\n",
              "\n",
              ".xr-var-item > .xr-var-name:hover span {\n",
              "  padding-right: 5px;\n",
              "}\n",
              "\n",
              ".xr-var-list > li:nth-child(odd) > div,\n",
              ".xr-var-list > li:nth-child(odd) > label,\n",
              ".xr-var-list > li:nth-child(odd) > .xr-var-name span {\n",
              "  background-color: var(--xr-background-color-row-odd);\n",
              "}\n",
              "\n",
              ".xr-var-name {\n",
              "  grid-column: 1;\n",
              "}\n",
              "\n",
              ".xr-var-dims {\n",
              "  grid-column: 2;\n",
              "}\n",
              "\n",
              ".xr-var-dtype {\n",
              "  grid-column: 3;\n",
              "  text-align: right;\n",
              "  color: var(--xr-font-color2);\n",
              "}\n",
              "\n",
              ".xr-var-preview {\n",
              "  grid-column: 4;\n",
              "}\n",
              "\n",
              ".xr-index-preview {\n",
              "  grid-column: 2 / 5;\n",
              "  color: var(--xr-font-color2);\n",
              "}\n",
              "\n",
              ".xr-var-name,\n",
              ".xr-var-dims,\n",
              ".xr-var-dtype,\n",
              ".xr-preview,\n",
              ".xr-attrs dt {\n",
              "  white-space: nowrap;\n",
              "  overflow: hidden;\n",
              "  text-overflow: ellipsis;\n",
              "  padding-right: 10px;\n",
              "}\n",
              "\n",
              ".xr-var-name:hover,\n",
              ".xr-var-dims:hover,\n",
              ".xr-var-dtype:hover,\n",
              ".xr-attrs dt:hover {\n",
              "  overflow: visible;\n",
              "  width: auto;\n",
              "  z-index: 1;\n",
              "}\n",
              "\n",
              ".xr-var-attrs,\n",
              ".xr-var-data,\n",
              ".xr-index-data {\n",
              "  display: none;\n",
              "  background-color: var(--xr-background-color) !important;\n",
              "  padding-bottom: 5px !important;\n",
              "}\n",
              "\n",
              ".xr-var-attrs-in:checked ~ .xr-var-attrs,\n",
              ".xr-var-data-in:checked ~ .xr-var-data,\n",
              ".xr-index-data-in:checked ~ .xr-index-data {\n",
              "  display: block;\n",
              "}\n",
              "\n",
              ".xr-var-data > table {\n",
              "  float: right;\n",
              "}\n",
              "\n",
              ".xr-var-name span,\n",
              ".xr-var-data,\n",
              ".xr-index-name div,\n",
              ".xr-index-data,\n",
              ".xr-attrs {\n",
              "  padding-left: 25px !important;\n",
              "}\n",
              "\n",
              ".xr-attrs,\n",
              ".xr-var-attrs,\n",
              ".xr-var-data,\n",
              ".xr-index-data {\n",
              "  grid-column: 1 / -1;\n",
              "}\n",
              "\n",
              "dl.xr-attrs {\n",
              "  padding: 0;\n",
              "  margin: 0;\n",
              "  display: grid;\n",
              "  grid-template-columns: 125px auto;\n",
              "}\n",
              "\n",
              ".xr-attrs dt,\n",
              ".xr-attrs dd {\n",
              "  padding: 0;\n",
              "  margin: 0;\n",
              "  float: left;\n",
              "  padding-right: 10px;\n",
              "  width: auto;\n",
              "}\n",
              "\n",
              ".xr-attrs dt {\n",
              "  font-weight: normal;\n",
              "  grid-column: 1;\n",
              "}\n",
              "\n",
              ".xr-attrs dt:hover span {\n",
              "  display: inline-block;\n",
              "  background: var(--xr-background-color);\n",
              "  padding-right: 10px;\n",
              "}\n",
              "\n",
              ".xr-attrs dd {\n",
              "  grid-column: 2;\n",
              "  white-space: pre-wrap;\n",
              "  word-break: break-all;\n",
              "}\n",
              "\n",
              ".xr-icon-database,\n",
              ".xr-icon-file-text2,\n",
              ".xr-no-icon {\n",
              "  display: inline-block;\n",
              "  vertical-align: middle;\n",
              "  width: 1em;\n",
              "  height: 1.5em !important;\n",
              "  stroke-width: 0;\n",
              "  stroke: currentColor;\n",
              "  fill: currentColor;\n",
              "}\n",
              "</style><pre class='xr-text-repr-fallback'>&lt;xarray.Dataset&gt;\n",
              "Dimensions:    (level: 1, lat: 94, lon: 192, time: 542, nbnds: 2)\n",
              "Coordinates:\n",
              "  * level      (level) float32 2.0\n",
              "  * lat        (lat) float32 -88.54 -86.65 -84.75 -82.85 ... 84.75 86.65 88.54\n",
              "  * lon        (lon) float32 0.0 1.875 3.75 5.625 ... 352.5 354.4 356.2 358.1\n",
              "  * time       (time) datetime64[ns] 1979-01-01 1979-02-01 ... 2024-02-01\n",
              "Dimensions without coordinates: nbnds\n",
              "Data variables:\n",
              "    time_bnds  (time, nbnds) datetime64[ns] ...\n",
              "    air        (time, level, lat, lon) float32 ...\n",
              "Attributes:\n",
              "    Conventions:    CF-1.0\n",
              "    title:          Monthly NCEP/DOE Reanalysis 2\n",
              "    comments:       Data is from \\nNCEP/DOE AMIP-II Reanalysis (Reanalysis-2)...\n",
              "    platform:       Model\n",
              "    source:         NCEP/DOE AMIP-II Reanalysis (Reanalysis-2) Model\n",
              "    institution:    National Centers for Environmental Prediction\n",
              "    dataset_title:  NCEP-DOE AMIP-II Reanalysis\n",
              "    References:     https://www.psl.noaa.gov/data/gridded/data.ncep.reanalysi...\n",
              "    source_url:     http://www.cpc.ncep.noaa.gov/products/wesley/reanalysis2/\n",
              "    history:        created 2002/03 by Hoop (netCDF2.3)\\nConverted to chunked...</pre><div class='xr-wrap' style='display:none'><div class='xr-header'><div class='xr-obj-type'>xarray.Dataset</div></div><ul class='xr-sections'><li class='xr-section-item'><input id='section-fa310527-c30e-4b2d-8ed6-573f8a1c3e38' class='xr-section-summary-in' type='checkbox' disabled ><label for='section-fa310527-c30e-4b2d-8ed6-573f8a1c3e38' class='xr-section-summary'  title='Expand/collapse section'>Dimensions:</label><div class='xr-section-inline-details'><ul class='xr-dim-list'><li><span class='xr-has-index'>level</span>: 1</li><li><span class='xr-has-index'>lat</span>: 94</li><li><span class='xr-has-index'>lon</span>: 192</li><li><span class='xr-has-index'>time</span>: 542</li><li><span>nbnds</span>: 2</li></ul></div><div class='xr-section-details'></div></li><li class='xr-section-item'><input id='section-bf0821a9-5730-4dd9-92d5-4891d40bfc24' class='xr-section-summary-in' type='checkbox'  checked><label for='section-bf0821a9-5730-4dd9-92d5-4891d40bfc24' class='xr-section-summary' >Coordinates: <span>(4)</span></label><div class='xr-section-inline-details'></div><div class='xr-section-details'><ul class='xr-var-list'><li class='xr-var-item'><div class='xr-var-name'><span class='xr-has-index'>level</span></div><div class='xr-var-dims'>(level)</div><div class='xr-var-dtype'>float32</div><div class='xr-var-preview xr-preview'>2.0</div><input id='attrs-69ff249b-42c5-4219-abf3-7036f7c98cf0' class='xr-var-attrs-in' type='checkbox' ><label for='attrs-69ff249b-42c5-4219-abf3-7036f7c98cf0' title='Show/Hide attributes'><svg class='icon xr-icon-file-text2'><use xlink:href='#icon-file-text2'></use></svg></label><input id='data-1cc20c98-0995-463d-8e29-fa92058c760a' class='xr-var-data-in' type='checkbox'><label for='data-1cc20c98-0995-463d-8e29-fa92058c760a' title='Show/Hide data repr'><svg class='icon xr-icon-database'><use xlink:href='#icon-database'></use></svg></label><div class='xr-var-attrs'><dl class='xr-attrs'><dt><span>units :</span></dt><dd>m</dd><dt><span>actual_range :</span></dt><dd>[2. 2.]</dd><dt><span>long_name :</span></dt><dd>Level</dd><dt><span>positive :</span></dt><dd>up</dd><dt><span>axis :</span></dt><dd>Z</dd><dt><span>coordinate_defines :</span></dt><dd>point</dd></dl></div><div class='xr-var-data'><pre>array([2.], dtype=float32)</pre></div></li><li class='xr-var-item'><div class='xr-var-name'><span class='xr-has-index'>lat</span></div><div class='xr-var-dims'>(lat)</div><div class='xr-var-dtype'>float32</div><div class='xr-var-preview xr-preview'>-88.54 -86.65 ... 86.65 88.54</div><input id='attrs-e9cddb7c-ffcc-4129-b81f-980498187c0c' class='xr-var-attrs-in' type='checkbox' ><label for='attrs-e9cddb7c-ffcc-4129-b81f-980498187c0c' title='Show/Hide attributes'><svg class='icon xr-icon-file-text2'><use xlink:href='#icon-file-text2'></use></svg></label><input id='data-624097a1-fc69-4030-b903-79197eb68c28' class='xr-var-data-in' type='checkbox'><label for='data-624097a1-fc69-4030-b903-79197eb68c28' title='Show/Hide data repr'><svg class='icon xr-icon-database'><use xlink:href='#icon-database'></use></svg></label><div class='xr-var-attrs'><dl class='xr-attrs'><dt><span>units :</span></dt><dd>degrees_north</dd><dt><span>actual_range :</span></dt><dd>[ 88.542 -88.542]</dd><dt><span>long_name :</span></dt><dd>Latitude</dd><dt><span>standard_name :</span></dt><dd>latitude</dd><dt><span>axis :</span></dt><dd>Y</dd><dt><span>coordinate_defines :</span></dt><dd>point</dd></dl></div><div class='xr-var-data'><pre>array([-88.542   , -86.6531  , -84.7532  , -82.8508  , -80.9473  , -79.0435  ,\n",
              "       -77.1394  , -75.2351  , -73.3307  , -71.4262  , -69.5217  , -67.6171  ,\n",
              "       -65.7125  , -63.8079  , -61.9033  , -59.9986  , -58.0939  , -56.1893  ,\n",
              "       -54.2846  , -52.3799  , -50.4752  , -48.5705  , -46.6658  , -44.7611  ,\n",
              "       -42.8564  , -40.9517  , -39.047   , -37.1422  , -35.2375  , -33.3328  ,\n",
              "       -31.4281  , -29.5234  , -27.6186  , -25.7139  , -23.8092  , -21.9044  ,\n",
              "       -19.9997  , -18.095   , -16.1902  , -14.2855  , -12.3808  , -10.47604 ,\n",
              "        -8.57131 ,  -6.66657 ,  -4.76184 ,  -2.8571  ,  -0.952368,   0.952368,\n",
              "         2.8571  ,   4.76184 ,   6.66657 ,   8.57131 ,  10.47604 ,  12.3808  ,\n",
              "        14.2855  ,  16.1902  ,  18.095   ,  19.9997  ,  21.9044  ,  23.8092  ,\n",
              "        25.7139  ,  27.6186  ,  29.5234  ,  31.4281  ,  33.3328  ,  35.2375  ,\n",
              "        37.1422  ,  39.047   ,  40.9517  ,  42.8564  ,  44.7611  ,  46.6658  ,\n",
              "        48.5705  ,  50.4752  ,  52.3799  ,  54.2846  ,  56.1893  ,  58.0939  ,\n",
              "        59.9986  ,  61.9033  ,  63.8079  ,  65.7125  ,  67.6171  ,  69.5217  ,\n",
              "        71.4262  ,  73.3307  ,  75.2351  ,  77.1394  ,  79.0435  ,  80.9473  ,\n",
              "        82.8508  ,  84.7532  ,  86.6531  ,  88.542   ], dtype=float32)</pre></div></li><li class='xr-var-item'><div class='xr-var-name'><span class='xr-has-index'>lon</span></div><div class='xr-var-dims'>(lon)</div><div class='xr-var-dtype'>float32</div><div class='xr-var-preview xr-preview'>0.0 1.875 3.75 ... 356.2 358.1</div><input id='attrs-1ae7b2e2-1b7a-4818-a23f-aeab4f4622d3' class='xr-var-attrs-in' type='checkbox' ><label for='attrs-1ae7b2e2-1b7a-4818-a23f-aeab4f4622d3' title='Show/Hide attributes'><svg class='icon xr-icon-file-text2'><use xlink:href='#icon-file-text2'></use></svg></label><input id='data-46bb31c2-8270-471d-9dd6-6200d239c82c' class='xr-var-data-in' type='checkbox'><label for='data-46bb31c2-8270-471d-9dd6-6200d239c82c' title='Show/Hide data repr'><svg class='icon xr-icon-database'><use xlink:href='#icon-database'></use></svg></label><div class='xr-var-attrs'><dl class='xr-attrs'><dt><span>units :</span></dt><dd>degrees_east</dd><dt><span>long_name :</span></dt><dd>Longitude</dd><dt><span>actual_range :</span></dt><dd>[  0.    358.125]</dd><dt><span>standard_name :</span></dt><dd>longitude</dd><dt><span>axis :</span></dt><dd>X</dd><dt><span>coordinate_defines :</span></dt><dd>point</dd></dl></div><div class='xr-var-data'><pre>array([  0.   ,   1.875,   3.75 ,   5.625,   7.5  ,   9.375,  11.25 ,  13.125,\n",
              "        15.   ,  16.875,  18.75 ,  20.625,  22.5  ,  24.375,  26.25 ,  28.125,\n",
              "        30.   ,  31.875,  33.75 ,  35.625,  37.5  ,  39.375,  41.25 ,  43.125,\n",
              "        45.   ,  46.875,  48.75 ,  50.625,  52.5  ,  54.375,  56.25 ,  58.125,\n",
              "        60.   ,  61.875,  63.75 ,  65.625,  67.5  ,  69.375,  71.25 ,  73.125,\n",
              "        75.   ,  76.875,  78.75 ,  80.625,  82.5  ,  84.375,  86.25 ,  88.125,\n",
              "        90.   ,  91.875,  93.75 ,  95.625,  97.5  ,  99.375, 101.25 , 103.125,\n",
              "       105.   , 106.875, 108.75 , 110.625, 112.5  , 114.375, 116.25 , 118.125,\n",
              "       120.   , 121.875, 123.75 , 125.625, 127.5  , 129.375, 131.25 , 133.125,\n",
              "       135.   , 136.875, 138.75 , 140.625, 142.5  , 144.375, 146.25 , 148.125,\n",
              "       150.   , 151.875, 153.75 , 155.625, 157.5  , 159.375, 161.25 , 163.125,\n",
              "       165.   , 166.875, 168.75 , 170.625, 172.5  , 174.375, 176.25 , 178.125,\n",
              "       180.   , 181.875, 183.75 , 185.625, 187.5  , 189.375, 191.25 , 193.125,\n",
              "       195.   , 196.875, 198.75 , 200.625, 202.5  , 204.375, 206.25 , 208.125,\n",
              "       210.   , 211.875, 213.75 , 215.625, 217.5  , 219.375, 221.25 , 223.125,\n",
              "       225.   , 226.875, 228.75 , 230.625, 232.5  , 234.375, 236.25 , 238.125,\n",
              "       240.   , 241.875, 243.75 , 245.625, 247.5  , 249.375, 251.25 , 253.125,\n",
              "       255.   , 256.875, 258.75 , 260.625, 262.5  , 264.375, 266.25 , 268.125,\n",
              "       270.   , 271.875, 273.75 , 275.625, 277.5  , 279.375, 281.25 , 283.125,\n",
              "       285.   , 286.875, 288.75 , 290.625, 292.5  , 294.375, 296.25 , 298.125,\n",
              "       300.   , 301.875, 303.75 , 305.625, 307.5  , 309.375, 311.25 , 313.125,\n",
              "       315.   , 316.875, 318.75 , 320.625, 322.5  , 324.375, 326.25 , 328.125,\n",
              "       330.   , 331.875, 333.75 , 335.625, 337.5  , 339.375, 341.25 , 343.125,\n",
              "       345.   , 346.875, 348.75 , 350.625, 352.5  , 354.375, 356.25 , 358.125],\n",
              "      dtype=float32)</pre></div></li><li class='xr-var-item'><div class='xr-var-name'><span class='xr-has-index'>time</span></div><div class='xr-var-dims'>(time)</div><div class='xr-var-dtype'>datetime64[ns]</div><div class='xr-var-preview xr-preview'>1979-01-01 ... 2024-02-01</div><input id='attrs-8b3c0ccc-0e06-4c34-ac3b-ad06a4e3dce4' class='xr-var-attrs-in' type='checkbox' ><label for='attrs-8b3c0ccc-0e06-4c34-ac3b-ad06a4e3dce4' title='Show/Hide attributes'><svg class='icon xr-icon-file-text2'><use xlink:href='#icon-file-text2'></use></svg></label><input id='data-33f2b51c-316c-407d-895b-1cd39495e666' class='xr-var-data-in' type='checkbox'><label for='data-33f2b51c-316c-407d-895b-1cd39495e666' title='Show/Hide data repr'><svg class='icon xr-icon-database'><use xlink:href='#icon-database'></use></svg></label><div class='xr-var-attrs'><dl class='xr-attrs'><dt><span>long_name :</span></dt><dd>Time</dd><dt><span>delta_t :</span></dt><dd>0000-01-00 00:00:00</dd><dt><span>avg_period :</span></dt><dd>0000-01-00 00:00:00</dd><dt><span>prev_avg_period :</span></dt><dd>0000-00-01 00:00:00</dd><dt><span>standard_name :</span></dt><dd>time</dd><dt><span>axis :</span></dt><dd>T</dd><dt><span>coordinate_defines :</span></dt><dd>start</dd><dt><span>bounds :</span></dt><dd>time_bnds</dd><dt><span>actual_range :</span></dt><dd>[1569072. 1964280.]</dd></dl></div><div class='xr-var-data'><pre>array([&#x27;1979-01-01T00:00:00.000000000&#x27;, &#x27;1979-02-01T00:00:00.000000000&#x27;,\n",
              "       &#x27;1979-03-01T00:00:00.000000000&#x27;, ..., &#x27;2023-12-01T00:00:00.000000000&#x27;,\n",
              "       &#x27;2024-01-01T00:00:00.000000000&#x27;, &#x27;2024-02-01T00:00:00.000000000&#x27;],\n",
              "      dtype=&#x27;datetime64[ns]&#x27;)</pre></div></li></ul></div></li><li class='xr-section-item'><input id='section-00659744-4172-4b9f-b1ab-bd1538ac52ff' class='xr-section-summary-in' type='checkbox'  checked><label for='section-00659744-4172-4b9f-b1ab-bd1538ac52ff' class='xr-section-summary' >Data variables: <span>(2)</span></label><div class='xr-section-inline-details'></div><div class='xr-section-details'><ul class='xr-var-list'><li class='xr-var-item'><div class='xr-var-name'><span>time_bnds</span></div><div class='xr-var-dims'>(time, nbnds)</div><div class='xr-var-dtype'>datetime64[ns]</div><div class='xr-var-preview xr-preview'>...</div><input id='attrs-23fd7c22-1d04-4373-89fd-1e55930b3d6e' class='xr-var-attrs-in' type='checkbox' ><label for='attrs-23fd7c22-1d04-4373-89fd-1e55930b3d6e' title='Show/Hide attributes'><svg class='icon xr-icon-file-text2'><use xlink:href='#icon-file-text2'></use></svg></label><input id='data-684a4a89-3cde-4d12-95a4-5ca5853eb99d' class='xr-var-data-in' type='checkbox'><label for='data-684a4a89-3cde-4d12-95a4-5ca5853eb99d' title='Show/Hide data repr'><svg class='icon xr-icon-database'><use xlink:href='#icon-database'></use></svg></label><div class='xr-var-attrs'><dl class='xr-attrs'><dt><span>long_name :</span></dt><dd>Time Boundaries</dd></dl></div><div class='xr-var-data'><pre>[1084 values with dtype=datetime64[ns]]</pre></div></li><li class='xr-var-item'><div class='xr-var-name'><span>air</span></div><div class='xr-var-dims'>(time, level, lat, lon)</div><div class='xr-var-dtype'>float32</div><div class='xr-var-preview xr-preview'>...</div><input id='attrs-a7eca473-ed60-469f-a80b-bcb09d3169c1' class='xr-var-attrs-in' type='checkbox' ><label for='attrs-a7eca473-ed60-469f-a80b-bcb09d3169c1' title='Show/Hide attributes'><svg class='icon xr-icon-file-text2'><use xlink:href='#icon-file-text2'></use></svg></label><input id='data-60703b8e-ee72-482a-8aba-7c3bb47ccb35' class='xr-var-data-in' type='checkbox'><label for='data-60703b8e-ee72-482a-8aba-7c3bb47ccb35' title='Show/Hide data repr'><svg class='icon xr-icon-database'><use xlink:href='#icon-database'></use></svg></label><div class='xr-var-attrs'><dl class='xr-attrs'><dt><span>long_name :</span></dt><dd>Monthly Mean of Forecast of Air temperature at 2 m</dd><dt><span>units :</span></dt><dd>degK</dd><dt><span>precision :</span></dt><dd>2</dd><dt><span>least_significant_digit :</span></dt><dd>1</dd><dt><span>GRIB_id :</span></dt><dd>11</dd><dt><span>GRIB_name :</span></dt><dd>TMP</dd><dt><span>var_desc :</span></dt><dd>Air temperature</dd><dt><span>dataset :</span></dt><dd>NCEP/DOE AMIP-II Reanalysis (Reanalysis-2) Monthly Averages</dd><dt><span>level_desc :</span></dt><dd>2 m</dd><dt><span>statistic :</span></dt><dd>Mean</dd><dt><span>parent_stat :</span></dt><dd>Individual Obs</dd><dt><span>standard_name :</span></dt><dd>air_temperature</dd><dt><span>cell_methods :</span></dt><dd>time: mean (interval: 6 hours to daily) time: mean (interval: 1 day to monthly)</dd><dt><span>valid_range :</span></dt><dd>[120. 430.]</dd><dt><span>actual_range :</span></dt><dd>[197.63 313.76]</dd></dl></div><div class='xr-var-data'><pre>[9782016 values with dtype=float32]</pre></div></li></ul></div></li><li class='xr-section-item'><input id='section-dca5624b-4175-443a-a149-5b4688d71223' class='xr-section-summary-in' type='checkbox'  ><label for='section-dca5624b-4175-443a-a149-5b4688d71223' class='xr-section-summary' >Indexes: <span>(4)</span></label><div class='xr-section-inline-details'></div><div class='xr-section-details'><ul class='xr-var-list'><li class='xr-var-item'><div class='xr-index-name'><div>level</div></div><div class='xr-index-preview'>PandasIndex</div><div></div><input id='index-8155abbe-5720-40da-bb20-2b17bdad8293' class='xr-index-data-in' type='checkbox'/><label for='index-8155abbe-5720-40da-bb20-2b17bdad8293' title='Show/Hide index repr'><svg class='icon xr-icon-database'><use xlink:href='#icon-database'></use></svg></label><div class='xr-index-data'><pre>PandasIndex(Float64Index([2.0], dtype=&#x27;float64&#x27;, name=&#x27;level&#x27;))</pre></div></li><li class='xr-var-item'><div class='xr-index-name'><div>lat</div></div><div class='xr-index-preview'>PandasIndex</div><div></div><input id='index-2b66b654-55a9-4825-b4ba-a544cbf845bc' class='xr-index-data-in' type='checkbox'/><label for='index-2b66b654-55a9-4825-b4ba-a544cbf845bc' title='Show/Hide index repr'><svg class='icon xr-icon-database'><use xlink:href='#icon-database'></use></svg></label><div class='xr-index-data'><pre>PandasIndex(Float64Index([ -88.54199981689453,   -86.6530990600586,   -84.7531967163086,\n",
              "               -82.85079956054688,  -80.94730377197266,  -79.04350280761719,\n",
              "               -77.13939666748047,  -75.23509979248047,  -73.33070373535156,\n",
              "               -71.42620086669922,  -69.52169799804688,  -67.61710357666016,\n",
              "                -65.7125015258789, -63.807899475097656,  -61.90330123901367,\n",
              "              -59.998600006103516,  -58.09389877319336, -56.189300537109375,\n",
              "               -54.28459930419922,  -52.37990188598633,  -50.47520065307617,\n",
              "              -48.570499420166016,  -46.66579818725586,  -44.76110076904297,\n",
              "               -42.85639953613281, -40.951698303222656, -39.047000885009766,\n",
              "                -37.1422004699707,  -35.23749923706055, -33.332801818847656,\n",
              "                -31.4281005859375, -29.523399353027344, -27.618600845336914,\n",
              "              -25.713899612426758, -23.809200286865234, -21.904399871826172,\n",
              "               -19.99970054626465, -18.094999313354492, -16.190200805664062,\n",
              "              -14.285499572753906, -12.380800247192383,  -10.47603988647461,\n",
              "               -8.571310043334961,   -6.66657018661499,  -4.761839866638184,\n",
              "               -2.857100009918213, -0.9523680210113525,  0.9523680210113525,\n",
              "                2.857100009918213,   4.761839866638184,    6.66657018661499,\n",
              "                8.571310043334961,   10.47603988647461,  12.380800247192383,\n",
              "               14.285499572753906,  16.190200805664062,  18.094999313354492,\n",
              "                19.99970054626465,  21.904399871826172,  23.809200286865234,\n",
              "               25.713899612426758,  27.618600845336914,  29.523399353027344,\n",
              "                 31.4281005859375,  33.332801818847656,   35.23749923706055,\n",
              "                 37.1422004699707,  39.047000885009766,  40.951698303222656,\n",
              "                42.85639953613281,   44.76110076904297,   46.66579818725586,\n",
              "               48.570499420166016,   50.47520065307617,   52.37990188598633,\n",
              "                54.28459930419922,  56.189300537109375,   58.09389877319336,\n",
              "               59.998600006103516,   61.90330123901367,  63.807899475097656,\n",
              "                 65.7125015258789,   67.61710357666016,   69.52169799804688,\n",
              "                71.42620086669922,   73.33070373535156,   75.23509979248047,\n",
              "                77.13939666748047,   79.04350280761719,   80.94730377197266,\n",
              "                82.85079956054688,    84.7531967163086,    86.6530990600586,\n",
              "                88.54199981689453],\n",
              "             dtype=&#x27;float64&#x27;, name=&#x27;lat&#x27;))</pre></div></li><li class='xr-var-item'><div class='xr-index-name'><div>lon</div></div><div class='xr-index-preview'>PandasIndex</div><div></div><input id='index-bd92ba2e-b2e5-47c3-be62-29fc67b45a49' class='xr-index-data-in' type='checkbox'/><label for='index-bd92ba2e-b2e5-47c3-be62-29fc67b45a49' title='Show/Hide index repr'><svg class='icon xr-icon-database'><use xlink:href='#icon-database'></use></svg></label><div class='xr-index-data'><pre>PandasIndex(Float64Index([    0.0,   1.875,    3.75,   5.625,     7.5,   9.375,   11.25,\n",
              "               13.125,    15.0,  16.875,\n",
              "              ...\n",
              "               341.25, 343.125,   345.0, 346.875,  348.75, 350.625,   352.5,\n",
              "              354.375,  356.25, 358.125],\n",
              "             dtype=&#x27;float64&#x27;, name=&#x27;lon&#x27;, length=192))</pre></div></li><li class='xr-var-item'><div class='xr-index-name'><div>time</div></div><div class='xr-index-preview'>PandasIndex</div><div></div><input id='index-acd70d3e-1fce-4787-9c3d-c17cbc43428f' class='xr-index-data-in' type='checkbox'/><label for='index-acd70d3e-1fce-4787-9c3d-c17cbc43428f' title='Show/Hide index repr'><svg class='icon xr-icon-database'><use xlink:href='#icon-database'></use></svg></label><div class='xr-index-data'><pre>PandasIndex(DatetimeIndex([&#x27;1979-01-01&#x27;, &#x27;1979-02-01&#x27;, &#x27;1979-03-01&#x27;, &#x27;1979-04-01&#x27;,\n",
              "               &#x27;1979-05-01&#x27;, &#x27;1979-06-01&#x27;, &#x27;1979-07-01&#x27;, &#x27;1979-08-01&#x27;,\n",
              "               &#x27;1979-09-01&#x27;, &#x27;1979-10-01&#x27;,\n",
              "               ...\n",
              "               &#x27;2023-05-01&#x27;, &#x27;2023-06-01&#x27;, &#x27;2023-07-01&#x27;, &#x27;2023-08-01&#x27;,\n",
              "               &#x27;2023-09-01&#x27;, &#x27;2023-10-01&#x27;, &#x27;2023-11-01&#x27;, &#x27;2023-12-01&#x27;,\n",
              "               &#x27;2024-01-01&#x27;, &#x27;2024-02-01&#x27;],\n",
              "              dtype=&#x27;datetime64[ns]&#x27;, name=&#x27;time&#x27;, length=542, freq=None))</pre></div></li></ul></div></li><li class='xr-section-item'><input id='section-87ac2d34-fda0-4a4d-ad3b-3c5d98a65042' class='xr-section-summary-in' type='checkbox'  ><label for='section-87ac2d34-fda0-4a4d-ad3b-3c5d98a65042' class='xr-section-summary' >Attributes: <span>(10)</span></label><div class='xr-section-inline-details'></div><div class='xr-section-details'><dl class='xr-attrs'><dt><span>Conventions :</span></dt><dd>CF-1.0</dd><dt><span>title :</span></dt><dd>Monthly NCEP/DOE Reanalysis 2</dd><dt><span>comments :</span></dt><dd>Data is from \n",
              "NCEP/DOE AMIP-II Reanalysis (Reanalysis-2)\n",
              "(4x/day).  Data interpolated from model (sigma) surfaces to gaussian grid.</dd><dt><span>platform :</span></dt><dd>Model</dd><dt><span>source :</span></dt><dd>NCEP/DOE AMIP-II Reanalysis (Reanalysis-2) Model</dd><dt><span>institution :</span></dt><dd>National Centers for Environmental Prediction</dd><dt><span>dataset_title :</span></dt><dd>NCEP-DOE AMIP-II Reanalysis</dd><dt><span>References :</span></dt><dd>https://www.psl.noaa.gov/data/gridded/data.ncep.reanalysis2.html</dd><dt><span>source_url :</span></dt><dd>http://www.cpc.ncep.noaa.gov/products/wesley/reanalysis2/</dd><dt><span>history :</span></dt><dd>created 2002/03 by Hoop (netCDF2.3)\n",
              "Converted to chunked, deflated non-packed NetCDF4 2020/05</dd></dl></div></li></ul></div></div>"
            ]
          },
          "metadata": {},
          "execution_count": 31
        }
      ]
    },
    {
      "cell_type": "code",
      "source": [
        "lat = t2_dat.lat\n",
        "lon = t2_dat.lon\n",
        "air_dat = t2_dat.air\n",
        "air_dat_subset = air_dat.where((air_dat['time.year'] >= 1980) & (air_dat['time.year'] <= 2023), drop=True)\n",
        "air_mean = air_dat_subset.mean({'time','level'})\n",
        "air_mean"
      ],
      "metadata": {
        "colab": {
          "base_uri": "https://localhost:8080/",
          "height": 397
        },
        "id": "E0KJZNa8Nfts",
        "outputId": "3b82f0c1-46e8-44e3-fa28-57772a5500fc"
      },
      "execution_count": 32,
      "outputs": [
        {
          "output_type": "execute_result",
          "data": {
            "text/plain": [
              "<xarray.DataArray 'air' (lat: 94, lon: 192)>\n",
              "array([[230.49625, 230.34691, 230.19702, ..., 230.94403, 230.79529,\n",
              "        230.64584],\n",
              "       [232.22351, 231.86382, 231.50763, ..., 233.32138, 232.9538 ,\n",
              "        232.58746],\n",
              "       [233.17401, 232.62833, 232.09613, ..., 234.89215, 234.30676,\n",
              "        233.73418],\n",
              "       ...,\n",
              "       [258.00693, 258.12994, 258.23184, ..., 257.74567, 257.81906,\n",
              "        257.91528],\n",
              "       [257.84274, 257.9023 , 257.94476, ..., 257.7488 , 257.78058,\n",
              "        257.81882],\n",
              "       [257.62802, 257.7101 , 257.7006 , ..., 257.65894, 257.66742,\n",
              "        257.6297 ]], dtype=float32)\n",
              "Coordinates:\n",
              "  * lat      (lat) float32 -88.54 -86.65 -84.75 -82.85 ... 84.75 86.65 88.54\n",
              "  * lon      (lon) float32 0.0 1.875 3.75 5.625 7.5 ... 352.5 354.4 356.2 358.1"
            ],
            "text/html": [
              "<div><svg style=\"position: absolute; width: 0; height: 0; overflow: hidden\">\n",
              "<defs>\n",
              "<symbol id=\"icon-database\" viewBox=\"0 0 32 32\">\n",
              "<path d=\"M16 0c-8.837 0-16 2.239-16 5v4c0 2.761 7.163 5 16 5s16-2.239 16-5v-4c0-2.761-7.163-5-16-5z\"></path>\n",
              "<path d=\"M16 17c-8.837 0-16-2.239-16-5v6c0 2.761 7.163 5 16 5s16-2.239 16-5v-6c0 2.761-7.163 5-16 5z\"></path>\n",
              "<path d=\"M16 26c-8.837 0-16-2.239-16-5v6c0 2.761 7.163 5 16 5s16-2.239 16-5v-6c0 2.761-7.163 5-16 5z\"></path>\n",
              "</symbol>\n",
              "<symbol id=\"icon-file-text2\" viewBox=\"0 0 32 32\">\n",
              "<path d=\"M28.681 7.159c-0.694-0.947-1.662-2.053-2.724-3.116s-2.169-2.030-3.116-2.724c-1.612-1.182-2.393-1.319-2.841-1.319h-15.5c-1.378 0-2.5 1.121-2.5 2.5v27c0 1.378 1.122 2.5 2.5 2.5h23c1.378 0 2.5-1.122 2.5-2.5v-19.5c0-0.448-0.137-1.23-1.319-2.841zM24.543 5.457c0.959 0.959 1.712 1.825 2.268 2.543h-4.811v-4.811c0.718 0.556 1.584 1.309 2.543 2.268zM28 29.5c0 0.271-0.229 0.5-0.5 0.5h-23c-0.271 0-0.5-0.229-0.5-0.5v-27c0-0.271 0.229-0.5 0.5-0.5 0 0 15.499-0 15.5 0v7c0 0.552 0.448 1 1 1h7v19.5z\"></path>\n",
              "<path d=\"M23 26h-14c-0.552 0-1-0.448-1-1s0.448-1 1-1h14c0.552 0 1 0.448 1 1s-0.448 1-1 1z\"></path>\n",
              "<path d=\"M23 22h-14c-0.552 0-1-0.448-1-1s0.448-1 1-1h14c0.552 0 1 0.448 1 1s-0.448 1-1 1z\"></path>\n",
              "<path d=\"M23 18h-14c-0.552 0-1-0.448-1-1s0.448-1 1-1h14c0.552 0 1 0.448 1 1s-0.448 1-1 1z\"></path>\n",
              "</symbol>\n",
              "</defs>\n",
              "</svg>\n",
              "<style>/* CSS stylesheet for displaying xarray objects in jupyterlab.\n",
              " *\n",
              " */\n",
              "\n",
              ":root {\n",
              "  --xr-font-color0: var(--jp-content-font-color0, rgba(0, 0, 0, 1));\n",
              "  --xr-font-color2: var(--jp-content-font-color2, rgba(0, 0, 0, 0.54));\n",
              "  --xr-font-color3: var(--jp-content-font-color3, rgba(0, 0, 0, 0.38));\n",
              "  --xr-border-color: var(--jp-border-color2, #e0e0e0);\n",
              "  --xr-disabled-color: var(--jp-layout-color3, #bdbdbd);\n",
              "  --xr-background-color: var(--jp-layout-color0, white);\n",
              "  --xr-background-color-row-even: var(--jp-layout-color1, white);\n",
              "  --xr-background-color-row-odd: var(--jp-layout-color2, #eeeeee);\n",
              "}\n",
              "\n",
              "html[theme=dark],\n",
              "body[data-theme=dark],\n",
              "body.vscode-dark {\n",
              "  --xr-font-color0: rgba(255, 255, 255, 1);\n",
              "  --xr-font-color2: rgba(255, 255, 255, 0.54);\n",
              "  --xr-font-color3: rgba(255, 255, 255, 0.38);\n",
              "  --xr-border-color: #1F1F1F;\n",
              "  --xr-disabled-color: #515151;\n",
              "  --xr-background-color: #111111;\n",
              "  --xr-background-color-row-even: #111111;\n",
              "  --xr-background-color-row-odd: #313131;\n",
              "}\n",
              "\n",
              ".xr-wrap {\n",
              "  display: block !important;\n",
              "  min-width: 300px;\n",
              "  max-width: 700px;\n",
              "}\n",
              "\n",
              ".xr-text-repr-fallback {\n",
              "  /* fallback to plain text repr when CSS is not injected (untrusted notebook) */\n",
              "  display: none;\n",
              "}\n",
              "\n",
              ".xr-header {\n",
              "  padding-top: 6px;\n",
              "  padding-bottom: 6px;\n",
              "  margin-bottom: 4px;\n",
              "  border-bottom: solid 1px var(--xr-border-color);\n",
              "}\n",
              "\n",
              ".xr-header > div,\n",
              ".xr-header > ul {\n",
              "  display: inline;\n",
              "  margin-top: 0;\n",
              "  margin-bottom: 0;\n",
              "}\n",
              "\n",
              ".xr-obj-type,\n",
              ".xr-array-name {\n",
              "  margin-left: 2px;\n",
              "  margin-right: 10px;\n",
              "}\n",
              "\n",
              ".xr-obj-type {\n",
              "  color: var(--xr-font-color2);\n",
              "}\n",
              "\n",
              ".xr-sections {\n",
              "  padding-left: 0 !important;\n",
              "  display: grid;\n",
              "  grid-template-columns: 150px auto auto 1fr 20px 20px;\n",
              "}\n",
              "\n",
              ".xr-section-item {\n",
              "  display: contents;\n",
              "}\n",
              "\n",
              ".xr-section-item input {\n",
              "  display: none;\n",
              "}\n",
              "\n",
              ".xr-section-item input + label {\n",
              "  color: var(--xr-disabled-color);\n",
              "}\n",
              "\n",
              ".xr-section-item input:enabled + label {\n",
              "  cursor: pointer;\n",
              "  color: var(--xr-font-color2);\n",
              "}\n",
              "\n",
              ".xr-section-item input:enabled + label:hover {\n",
              "  color: var(--xr-font-color0);\n",
              "}\n",
              "\n",
              ".xr-section-summary {\n",
              "  grid-column: 1;\n",
              "  color: var(--xr-font-color2);\n",
              "  font-weight: 500;\n",
              "}\n",
              "\n",
              ".xr-section-summary > span {\n",
              "  display: inline-block;\n",
              "  padding-left: 0.5em;\n",
              "}\n",
              "\n",
              ".xr-section-summary-in:disabled + label {\n",
              "  color: var(--xr-font-color2);\n",
              "}\n",
              "\n",
              ".xr-section-summary-in + label:before {\n",
              "  display: inline-block;\n",
              "  content: '►';\n",
              "  font-size: 11px;\n",
              "  width: 15px;\n",
              "  text-align: center;\n",
              "}\n",
              "\n",
              ".xr-section-summary-in:disabled + label:before {\n",
              "  color: var(--xr-disabled-color);\n",
              "}\n",
              "\n",
              ".xr-section-summary-in:checked + label:before {\n",
              "  content: '▼';\n",
              "}\n",
              "\n",
              ".xr-section-summary-in:checked + label > span {\n",
              "  display: none;\n",
              "}\n",
              "\n",
              ".xr-section-summary,\n",
              ".xr-section-inline-details {\n",
              "  padding-top: 4px;\n",
              "  padding-bottom: 4px;\n",
              "}\n",
              "\n",
              ".xr-section-inline-details {\n",
              "  grid-column: 2 / -1;\n",
              "}\n",
              "\n",
              ".xr-section-details {\n",
              "  display: none;\n",
              "  grid-column: 1 / -1;\n",
              "  margin-bottom: 5px;\n",
              "}\n",
              "\n",
              ".xr-section-summary-in:checked ~ .xr-section-details {\n",
              "  display: contents;\n",
              "}\n",
              "\n",
              ".xr-array-wrap {\n",
              "  grid-column: 1 / -1;\n",
              "  display: grid;\n",
              "  grid-template-columns: 20px auto;\n",
              "}\n",
              "\n",
              ".xr-array-wrap > label {\n",
              "  grid-column: 1;\n",
              "  vertical-align: top;\n",
              "}\n",
              "\n",
              ".xr-preview {\n",
              "  color: var(--xr-font-color3);\n",
              "}\n",
              "\n",
              ".xr-array-preview,\n",
              ".xr-array-data {\n",
              "  padding: 0 5px !important;\n",
              "  grid-column: 2;\n",
              "}\n",
              "\n",
              ".xr-array-data,\n",
              ".xr-array-in:checked ~ .xr-array-preview {\n",
              "  display: none;\n",
              "}\n",
              "\n",
              ".xr-array-in:checked ~ .xr-array-data,\n",
              ".xr-array-preview {\n",
              "  display: inline-block;\n",
              "}\n",
              "\n",
              ".xr-dim-list {\n",
              "  display: inline-block !important;\n",
              "  list-style: none;\n",
              "  padding: 0 !important;\n",
              "  margin: 0;\n",
              "}\n",
              "\n",
              ".xr-dim-list li {\n",
              "  display: inline-block;\n",
              "  padding: 0;\n",
              "  margin: 0;\n",
              "}\n",
              "\n",
              ".xr-dim-list:before {\n",
              "  content: '(';\n",
              "}\n",
              "\n",
              ".xr-dim-list:after {\n",
              "  content: ')';\n",
              "}\n",
              "\n",
              ".xr-dim-list li:not(:last-child):after {\n",
              "  content: ',';\n",
              "  padding-right: 5px;\n",
              "}\n",
              "\n",
              ".xr-has-index {\n",
              "  font-weight: bold;\n",
              "}\n",
              "\n",
              ".xr-var-list,\n",
              ".xr-var-item {\n",
              "  display: contents;\n",
              "}\n",
              "\n",
              ".xr-var-item > div,\n",
              ".xr-var-item label,\n",
              ".xr-var-item > .xr-var-name span {\n",
              "  background-color: var(--xr-background-color-row-even);\n",
              "  margin-bottom: 0;\n",
              "}\n",
              "\n",
              ".xr-var-item > .xr-var-name:hover span {\n",
              "  padding-right: 5px;\n",
              "}\n",
              "\n",
              ".xr-var-list > li:nth-child(odd) > div,\n",
              ".xr-var-list > li:nth-child(odd) > label,\n",
              ".xr-var-list > li:nth-child(odd) > .xr-var-name span {\n",
              "  background-color: var(--xr-background-color-row-odd);\n",
              "}\n",
              "\n",
              ".xr-var-name {\n",
              "  grid-column: 1;\n",
              "}\n",
              "\n",
              ".xr-var-dims {\n",
              "  grid-column: 2;\n",
              "}\n",
              "\n",
              ".xr-var-dtype {\n",
              "  grid-column: 3;\n",
              "  text-align: right;\n",
              "  color: var(--xr-font-color2);\n",
              "}\n",
              "\n",
              ".xr-var-preview {\n",
              "  grid-column: 4;\n",
              "}\n",
              "\n",
              ".xr-index-preview {\n",
              "  grid-column: 2 / 5;\n",
              "  color: var(--xr-font-color2);\n",
              "}\n",
              "\n",
              ".xr-var-name,\n",
              ".xr-var-dims,\n",
              ".xr-var-dtype,\n",
              ".xr-preview,\n",
              ".xr-attrs dt {\n",
              "  white-space: nowrap;\n",
              "  overflow: hidden;\n",
              "  text-overflow: ellipsis;\n",
              "  padding-right: 10px;\n",
              "}\n",
              "\n",
              ".xr-var-name:hover,\n",
              ".xr-var-dims:hover,\n",
              ".xr-var-dtype:hover,\n",
              ".xr-attrs dt:hover {\n",
              "  overflow: visible;\n",
              "  width: auto;\n",
              "  z-index: 1;\n",
              "}\n",
              "\n",
              ".xr-var-attrs,\n",
              ".xr-var-data,\n",
              ".xr-index-data {\n",
              "  display: none;\n",
              "  background-color: var(--xr-background-color) !important;\n",
              "  padding-bottom: 5px !important;\n",
              "}\n",
              "\n",
              ".xr-var-attrs-in:checked ~ .xr-var-attrs,\n",
              ".xr-var-data-in:checked ~ .xr-var-data,\n",
              ".xr-index-data-in:checked ~ .xr-index-data {\n",
              "  display: block;\n",
              "}\n",
              "\n",
              ".xr-var-data > table {\n",
              "  float: right;\n",
              "}\n",
              "\n",
              ".xr-var-name span,\n",
              ".xr-var-data,\n",
              ".xr-index-name div,\n",
              ".xr-index-data,\n",
              ".xr-attrs {\n",
              "  padding-left: 25px !important;\n",
              "}\n",
              "\n",
              ".xr-attrs,\n",
              ".xr-var-attrs,\n",
              ".xr-var-data,\n",
              ".xr-index-data {\n",
              "  grid-column: 1 / -1;\n",
              "}\n",
              "\n",
              "dl.xr-attrs {\n",
              "  padding: 0;\n",
              "  margin: 0;\n",
              "  display: grid;\n",
              "  grid-template-columns: 125px auto;\n",
              "}\n",
              "\n",
              ".xr-attrs dt,\n",
              ".xr-attrs dd {\n",
              "  padding: 0;\n",
              "  margin: 0;\n",
              "  float: left;\n",
              "  padding-right: 10px;\n",
              "  width: auto;\n",
              "}\n",
              "\n",
              ".xr-attrs dt {\n",
              "  font-weight: normal;\n",
              "  grid-column: 1;\n",
              "}\n",
              "\n",
              ".xr-attrs dt:hover span {\n",
              "  display: inline-block;\n",
              "  background: var(--xr-background-color);\n",
              "  padding-right: 10px;\n",
              "}\n",
              "\n",
              ".xr-attrs dd {\n",
              "  grid-column: 2;\n",
              "  white-space: pre-wrap;\n",
              "  word-break: break-all;\n",
              "}\n",
              "\n",
              ".xr-icon-database,\n",
              ".xr-icon-file-text2,\n",
              ".xr-no-icon {\n",
              "  display: inline-block;\n",
              "  vertical-align: middle;\n",
              "  width: 1em;\n",
              "  height: 1.5em !important;\n",
              "  stroke-width: 0;\n",
              "  stroke: currentColor;\n",
              "  fill: currentColor;\n",
              "}\n",
              "</style><pre class='xr-text-repr-fallback'>&lt;xarray.DataArray &#x27;air&#x27; (lat: 94, lon: 192)&gt;\n",
              "array([[230.49625, 230.34691, 230.19702, ..., 230.94403, 230.79529,\n",
              "        230.64584],\n",
              "       [232.22351, 231.86382, 231.50763, ..., 233.32138, 232.9538 ,\n",
              "        232.58746],\n",
              "       [233.17401, 232.62833, 232.09613, ..., 234.89215, 234.30676,\n",
              "        233.73418],\n",
              "       ...,\n",
              "       [258.00693, 258.12994, 258.23184, ..., 257.74567, 257.81906,\n",
              "        257.91528],\n",
              "       [257.84274, 257.9023 , 257.94476, ..., 257.7488 , 257.78058,\n",
              "        257.81882],\n",
              "       [257.62802, 257.7101 , 257.7006 , ..., 257.65894, 257.66742,\n",
              "        257.6297 ]], dtype=float32)\n",
              "Coordinates:\n",
              "  * lat      (lat) float32 -88.54 -86.65 -84.75 -82.85 ... 84.75 86.65 88.54\n",
              "  * lon      (lon) float32 0.0 1.875 3.75 5.625 7.5 ... 352.5 354.4 356.2 358.1</pre><div class='xr-wrap' style='display:none'><div class='xr-header'><div class='xr-obj-type'>xarray.DataArray</div><div class='xr-array-name'>'air'</div><ul class='xr-dim-list'><li><span class='xr-has-index'>lat</span>: 94</li><li><span class='xr-has-index'>lon</span>: 192</li></ul></div><ul class='xr-sections'><li class='xr-section-item'><div class='xr-array-wrap'><input id='section-8ec04d13-7a1a-4303-b298-cf7b934aae28' class='xr-array-in' type='checkbox' checked><label for='section-8ec04d13-7a1a-4303-b298-cf7b934aae28' title='Show/hide data repr'><svg class='icon xr-icon-database'><use xlink:href='#icon-database'></use></svg></label><div class='xr-array-preview xr-preview'><span>230.5 230.3 230.2 230.0 229.9 229.8 ... 257.7 257.7 257.7 257.7 257.6</span></div><div class='xr-array-data'><pre>array([[230.49625, 230.34691, 230.19702, ..., 230.94403, 230.79529,\n",
              "        230.64584],\n",
              "       [232.22351, 231.86382, 231.50763, ..., 233.32138, 232.9538 ,\n",
              "        232.58746],\n",
              "       [233.17401, 232.62833, 232.09613, ..., 234.89215, 234.30676,\n",
              "        233.73418],\n",
              "       ...,\n",
              "       [258.00693, 258.12994, 258.23184, ..., 257.74567, 257.81906,\n",
              "        257.91528],\n",
              "       [257.84274, 257.9023 , 257.94476, ..., 257.7488 , 257.78058,\n",
              "        257.81882],\n",
              "       [257.62802, 257.7101 , 257.7006 , ..., 257.65894, 257.66742,\n",
              "        257.6297 ]], dtype=float32)</pre></div></div></li><li class='xr-section-item'><input id='section-e1cd88db-1f45-4e87-a564-5ecf02e584cc' class='xr-section-summary-in' type='checkbox'  checked><label for='section-e1cd88db-1f45-4e87-a564-5ecf02e584cc' class='xr-section-summary' >Coordinates: <span>(2)</span></label><div class='xr-section-inline-details'></div><div class='xr-section-details'><ul class='xr-var-list'><li class='xr-var-item'><div class='xr-var-name'><span class='xr-has-index'>lat</span></div><div class='xr-var-dims'>(lat)</div><div class='xr-var-dtype'>float32</div><div class='xr-var-preview xr-preview'>-88.54 -86.65 ... 86.65 88.54</div><input id='attrs-507aaae4-9a83-4ab5-b7f3-57700cc9bab6' class='xr-var-attrs-in' type='checkbox' ><label for='attrs-507aaae4-9a83-4ab5-b7f3-57700cc9bab6' title='Show/Hide attributes'><svg class='icon xr-icon-file-text2'><use xlink:href='#icon-file-text2'></use></svg></label><input id='data-d8a05ee6-8451-43f2-b3c4-42b875f6c5b0' class='xr-var-data-in' type='checkbox'><label for='data-d8a05ee6-8451-43f2-b3c4-42b875f6c5b0' title='Show/Hide data repr'><svg class='icon xr-icon-database'><use xlink:href='#icon-database'></use></svg></label><div class='xr-var-attrs'><dl class='xr-attrs'><dt><span>units :</span></dt><dd>degrees_north</dd><dt><span>actual_range :</span></dt><dd>[ 88.542 -88.542]</dd><dt><span>long_name :</span></dt><dd>Latitude</dd><dt><span>standard_name :</span></dt><dd>latitude</dd><dt><span>axis :</span></dt><dd>Y</dd><dt><span>coordinate_defines :</span></dt><dd>point</dd></dl></div><div class='xr-var-data'><pre>array([-88.542   , -86.6531  , -84.7532  , -82.8508  , -80.9473  , -79.0435  ,\n",
              "       -77.1394  , -75.2351  , -73.3307  , -71.4262  , -69.5217  , -67.6171  ,\n",
              "       -65.7125  , -63.8079  , -61.9033  , -59.9986  , -58.0939  , -56.1893  ,\n",
              "       -54.2846  , -52.3799  , -50.4752  , -48.5705  , -46.6658  , -44.7611  ,\n",
              "       -42.8564  , -40.9517  , -39.047   , -37.1422  , -35.2375  , -33.3328  ,\n",
              "       -31.4281  , -29.5234  , -27.6186  , -25.7139  , -23.8092  , -21.9044  ,\n",
              "       -19.9997  , -18.095   , -16.1902  , -14.2855  , -12.3808  , -10.47604 ,\n",
              "        -8.57131 ,  -6.66657 ,  -4.76184 ,  -2.8571  ,  -0.952368,   0.952368,\n",
              "         2.8571  ,   4.76184 ,   6.66657 ,   8.57131 ,  10.47604 ,  12.3808  ,\n",
              "        14.2855  ,  16.1902  ,  18.095   ,  19.9997  ,  21.9044  ,  23.8092  ,\n",
              "        25.7139  ,  27.6186  ,  29.5234  ,  31.4281  ,  33.3328  ,  35.2375  ,\n",
              "        37.1422  ,  39.047   ,  40.9517  ,  42.8564  ,  44.7611  ,  46.6658  ,\n",
              "        48.5705  ,  50.4752  ,  52.3799  ,  54.2846  ,  56.1893  ,  58.0939  ,\n",
              "        59.9986  ,  61.9033  ,  63.8079  ,  65.7125  ,  67.6171  ,  69.5217  ,\n",
              "        71.4262  ,  73.3307  ,  75.2351  ,  77.1394  ,  79.0435  ,  80.9473  ,\n",
              "        82.8508  ,  84.7532  ,  86.6531  ,  88.542   ], dtype=float32)</pre></div></li><li class='xr-var-item'><div class='xr-var-name'><span class='xr-has-index'>lon</span></div><div class='xr-var-dims'>(lon)</div><div class='xr-var-dtype'>float32</div><div class='xr-var-preview xr-preview'>0.0 1.875 3.75 ... 356.2 358.1</div><input id='attrs-994086c0-0eca-4856-bc60-e7b5d29cabde' class='xr-var-attrs-in' type='checkbox' ><label for='attrs-994086c0-0eca-4856-bc60-e7b5d29cabde' title='Show/Hide attributes'><svg class='icon xr-icon-file-text2'><use xlink:href='#icon-file-text2'></use></svg></label><input id='data-1159fa7c-e85c-430d-a157-ba89c9288bd0' class='xr-var-data-in' type='checkbox'><label for='data-1159fa7c-e85c-430d-a157-ba89c9288bd0' title='Show/Hide data repr'><svg class='icon xr-icon-database'><use xlink:href='#icon-database'></use></svg></label><div class='xr-var-attrs'><dl class='xr-attrs'><dt><span>units :</span></dt><dd>degrees_east</dd><dt><span>long_name :</span></dt><dd>Longitude</dd><dt><span>actual_range :</span></dt><dd>[  0.    358.125]</dd><dt><span>standard_name :</span></dt><dd>longitude</dd><dt><span>axis :</span></dt><dd>X</dd><dt><span>coordinate_defines :</span></dt><dd>point</dd></dl></div><div class='xr-var-data'><pre>array([  0.   ,   1.875,   3.75 ,   5.625,   7.5  ,   9.375,  11.25 ,  13.125,\n",
              "        15.   ,  16.875,  18.75 ,  20.625,  22.5  ,  24.375,  26.25 ,  28.125,\n",
              "        30.   ,  31.875,  33.75 ,  35.625,  37.5  ,  39.375,  41.25 ,  43.125,\n",
              "        45.   ,  46.875,  48.75 ,  50.625,  52.5  ,  54.375,  56.25 ,  58.125,\n",
              "        60.   ,  61.875,  63.75 ,  65.625,  67.5  ,  69.375,  71.25 ,  73.125,\n",
              "        75.   ,  76.875,  78.75 ,  80.625,  82.5  ,  84.375,  86.25 ,  88.125,\n",
              "        90.   ,  91.875,  93.75 ,  95.625,  97.5  ,  99.375, 101.25 , 103.125,\n",
              "       105.   , 106.875, 108.75 , 110.625, 112.5  , 114.375, 116.25 , 118.125,\n",
              "       120.   , 121.875, 123.75 , 125.625, 127.5  , 129.375, 131.25 , 133.125,\n",
              "       135.   , 136.875, 138.75 , 140.625, 142.5  , 144.375, 146.25 , 148.125,\n",
              "       150.   , 151.875, 153.75 , 155.625, 157.5  , 159.375, 161.25 , 163.125,\n",
              "       165.   , 166.875, 168.75 , 170.625, 172.5  , 174.375, 176.25 , 178.125,\n",
              "       180.   , 181.875, 183.75 , 185.625, 187.5  , 189.375, 191.25 , 193.125,\n",
              "       195.   , 196.875, 198.75 , 200.625, 202.5  , 204.375, 206.25 , 208.125,\n",
              "       210.   , 211.875, 213.75 , 215.625, 217.5  , 219.375, 221.25 , 223.125,\n",
              "       225.   , 226.875, 228.75 , 230.625, 232.5  , 234.375, 236.25 , 238.125,\n",
              "       240.   , 241.875, 243.75 , 245.625, 247.5  , 249.375, 251.25 , 253.125,\n",
              "       255.   , 256.875, 258.75 , 260.625, 262.5  , 264.375, 266.25 , 268.125,\n",
              "       270.   , 271.875, 273.75 , 275.625, 277.5  , 279.375, 281.25 , 283.125,\n",
              "       285.   , 286.875, 288.75 , 290.625, 292.5  , 294.375, 296.25 , 298.125,\n",
              "       300.   , 301.875, 303.75 , 305.625, 307.5  , 309.375, 311.25 , 313.125,\n",
              "       315.   , 316.875, 318.75 , 320.625, 322.5  , 324.375, 326.25 , 328.125,\n",
              "       330.   , 331.875, 333.75 , 335.625, 337.5  , 339.375, 341.25 , 343.125,\n",
              "       345.   , 346.875, 348.75 , 350.625, 352.5  , 354.375, 356.25 , 358.125],\n",
              "      dtype=float32)</pre></div></li></ul></div></li><li class='xr-section-item'><input id='section-0923a979-93a7-496d-8fd0-ca824cd2e5b6' class='xr-section-summary-in' type='checkbox'  ><label for='section-0923a979-93a7-496d-8fd0-ca824cd2e5b6' class='xr-section-summary' >Indexes: <span>(2)</span></label><div class='xr-section-inline-details'></div><div class='xr-section-details'><ul class='xr-var-list'><li class='xr-var-item'><div class='xr-index-name'><div>lat</div></div><div class='xr-index-preview'>PandasIndex</div><div></div><input id='index-ae3366ac-9374-490f-b4ef-6640a0b81fd2' class='xr-index-data-in' type='checkbox'/><label for='index-ae3366ac-9374-490f-b4ef-6640a0b81fd2' title='Show/Hide index repr'><svg class='icon xr-icon-database'><use xlink:href='#icon-database'></use></svg></label><div class='xr-index-data'><pre>PandasIndex(Float64Index([ -88.54199981689453,   -86.6530990600586,   -84.7531967163086,\n",
              "               -82.85079956054688,  -80.94730377197266,  -79.04350280761719,\n",
              "               -77.13939666748047,  -75.23509979248047,  -73.33070373535156,\n",
              "               -71.42620086669922,  -69.52169799804688,  -67.61710357666016,\n",
              "                -65.7125015258789, -63.807899475097656,  -61.90330123901367,\n",
              "              -59.998600006103516,  -58.09389877319336, -56.189300537109375,\n",
              "               -54.28459930419922,  -52.37990188598633,  -50.47520065307617,\n",
              "              -48.570499420166016,  -46.66579818725586,  -44.76110076904297,\n",
              "               -42.85639953613281, -40.951698303222656, -39.047000885009766,\n",
              "                -37.1422004699707,  -35.23749923706055, -33.332801818847656,\n",
              "                -31.4281005859375, -29.523399353027344, -27.618600845336914,\n",
              "              -25.713899612426758, -23.809200286865234, -21.904399871826172,\n",
              "               -19.99970054626465, -18.094999313354492, -16.190200805664062,\n",
              "              -14.285499572753906, -12.380800247192383,  -10.47603988647461,\n",
              "               -8.571310043334961,   -6.66657018661499,  -4.761839866638184,\n",
              "               -2.857100009918213, -0.9523680210113525,  0.9523680210113525,\n",
              "                2.857100009918213,   4.761839866638184,    6.66657018661499,\n",
              "                8.571310043334961,   10.47603988647461,  12.380800247192383,\n",
              "               14.285499572753906,  16.190200805664062,  18.094999313354492,\n",
              "                19.99970054626465,  21.904399871826172,  23.809200286865234,\n",
              "               25.713899612426758,  27.618600845336914,  29.523399353027344,\n",
              "                 31.4281005859375,  33.332801818847656,   35.23749923706055,\n",
              "                 37.1422004699707,  39.047000885009766,  40.951698303222656,\n",
              "                42.85639953613281,   44.76110076904297,   46.66579818725586,\n",
              "               48.570499420166016,   50.47520065307617,   52.37990188598633,\n",
              "                54.28459930419922,  56.189300537109375,   58.09389877319336,\n",
              "               59.998600006103516,   61.90330123901367,  63.807899475097656,\n",
              "                 65.7125015258789,   67.61710357666016,   69.52169799804688,\n",
              "                71.42620086669922,   73.33070373535156,   75.23509979248047,\n",
              "                77.13939666748047,   79.04350280761719,   80.94730377197266,\n",
              "                82.85079956054688,    84.7531967163086,    86.6530990600586,\n",
              "                88.54199981689453],\n",
              "             dtype=&#x27;float64&#x27;, name=&#x27;lat&#x27;))</pre></div></li><li class='xr-var-item'><div class='xr-index-name'><div>lon</div></div><div class='xr-index-preview'>PandasIndex</div><div></div><input id='index-c49b6996-27e2-4b16-a6e6-610ef5375a06' class='xr-index-data-in' type='checkbox'/><label for='index-c49b6996-27e2-4b16-a6e6-610ef5375a06' title='Show/Hide index repr'><svg class='icon xr-icon-database'><use xlink:href='#icon-database'></use></svg></label><div class='xr-index-data'><pre>PandasIndex(Float64Index([    0.0,   1.875,    3.75,   5.625,     7.5,   9.375,   11.25,\n",
              "               13.125,    15.0,  16.875,\n",
              "              ...\n",
              "               341.25, 343.125,   345.0, 346.875,  348.75, 350.625,   352.5,\n",
              "              354.375,  356.25, 358.125],\n",
              "             dtype=&#x27;float64&#x27;, name=&#x27;lon&#x27;, length=192))</pre></div></li></ul></div></li><li class='xr-section-item'><input id='section-bdff3731-ef9f-4113-a644-c981435d9de1' class='xr-section-summary-in' type='checkbox' disabled ><label for='section-bdff3731-ef9f-4113-a644-c981435d9de1' class='xr-section-summary'  title='Expand/collapse section'>Attributes: <span>(0)</span></label><div class='xr-section-inline-details'></div><div class='xr-section-details'><dl class='xr-attrs'></dl></div></li></ul></div></div>"
            ]
          },
          "metadata": {},
          "execution_count": 32
        }
      ]
    },
    {
      "cell_type": "code",
      "source": [
        "import matplotlib.pyplot as plt\n",
        "import cartopy.crs as ccrs\n",
        "import cartopy.util as cutil\n",
        "from cartopy.feature import NaturalEarthFeature\n",
        "\n",
        "# Adding cyclic to the data and coordinates\n",
        "cdata, clon, clat = cutil.add_cyclic(air_mean, lon, lat)\n",
        "vmin=180\n",
        "vmax=300\n",
        "# Plotting\n",
        "fig = plt.figure(figsize=(12, 5))\n",
        "ax = fig.add_subplot(1, 1, 1, projection=ccrs.Robinson())\n",
        "ax.set_global()\n",
        "cb = ax.contourf(clon, clat, cdata,\n",
        "                 levels=30,\n",
        "                 vmin = vmin,\n",
        "                 vmax = vmax,\n",
        "                 transform=ccrs.PlateCarree(),\n",
        "                 cmap='hsv')  # Assuming you want to plot the first level\n",
        "cbar = plt.colorbar(cb, ax=ax, orientation='vertical')\n",
        "cbar.set_label('Mean temperature [K]')\n",
        "ax.coastlines()\n",
        "ax.add_feature(NaturalEarthFeature(category='cultural', name='admin_0_countries', scale='50m', facecolor='none', edgecolor='black'))\n",
        "plt.title('Annual Mean Temperature (averaged from 1980 - 2023)')\n",
        "# Tight layout to adjust spacing\n",
        "plt.tight_layout()\n",
        "plt.show()\n"
      ],
      "metadata": {
        "colab": {
          "base_uri": "https://localhost:8080/",
          "height": 415
        },
        "id": "MgUvCa2sOPu4",
        "outputId": "4c289a67-f30d-4859-8e63-32baf699d4aa"
      },
      "execution_count": 76,
      "outputs": [
        {
          "output_type": "display_data",
          "data": {
            "text/plain": [
              "<Figure size 1200x500 with 2 Axes>"
            ],
            "image/png": "[encoded data removed]"
          },
          "metadata": {}
        }
      ]
    },
    {
      "cell_type": "code",
      "source": [],
      "metadata": {
        "id": "f8C8FFeFOscy"
      },
      "execution_count": 35,
      "outputs": []
    },
    {
      "cell_type": "code",
      "source": [],
      "metadata": {
        "id": "HOgAYvZWRUoo"
      },
      "execution_count": null,
      "outputs": []
    }
  ]
}